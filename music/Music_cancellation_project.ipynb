{
 "cells": [
  {
   "cell_type": "markdown",
   "metadata": {},
   "source": [
    "# Final Project"
   ]
  },
  {
   "cell_type": "markdown",
   "metadata": {},
   "source": [
    "## 1. Scope the Project"
   ]
  },
  {
   "cell_type": "markdown",
   "metadata": {},
   "source": [
    "Our plan is to use a supervised learning technique to predict which customers are most likely to cancel their subscription using **the past three months of customer data which includes subscription and listening history**."
   ]
  },
  {
   "cell_type": "markdown",
   "metadata": {},
   "source": [
    "## 2. Gather Data"
   ]
  },
  {
   "cell_type": "markdown",
   "metadata": {},
   "source": [
    "Read the following files into Python:\n",
    "* Customer data: *maven_music_customers.csv*\n",
    "* Listing history: *maven_music_listening_history.xlsx*"
   ]
  },
  {
   "cell_type": "code",
   "execution_count": 1,
   "metadata": {},
   "outputs": [],
   "source": [
    "import pandas as pd"
   ]
  },
  {
   "cell_type": "code",
   "execution_count": 3,
   "metadata": {},
   "outputs": [],
   "source": [
    "customers=pd.read_csv(r\"C:\\Users\\clair\\course\\Data\\maven_music_customers.csv\")"
   ]
  },
  {
   "cell_type": "code",
   "execution_count": 4,
   "metadata": {},
   "outputs": [
    {
     "data": {
      "text/html": [
       "<div>\n",
       "<style scoped>\n",
       "    .dataframe tbody tr th:only-of-type {\n",
       "        vertical-align: middle;\n",
       "    }\n",
       "\n",
       "    .dataframe tbody tr th {\n",
       "        vertical-align: top;\n",
       "    }\n",
       "\n",
       "    .dataframe thead th {\n",
       "        text-align: right;\n",
       "    }\n",
       "</style>\n",
       "<table border=\"1\" class=\"dataframe\">\n",
       "  <thead>\n",
       "    <tr style=\"text-align: right;\">\n",
       "      <th></th>\n",
       "      <th>Customer ID</th>\n",
       "      <th>Customer Name</th>\n",
       "      <th>Email</th>\n",
       "      <th>Member Since</th>\n",
       "      <th>Subscription Plan</th>\n",
       "      <th>Subscription Rate</th>\n",
       "      <th>Discount?</th>\n",
       "      <th>Cancellation Date</th>\n",
       "    </tr>\n",
       "  </thead>\n",
       "  <tbody>\n",
       "    <tr>\n",
       "      <th>0</th>\n",
       "      <td>5001</td>\n",
       "      <td>Harmony Greene</td>\n",
       "      <td>Email: harmonious.vibes@email.com</td>\n",
       "      <td>3/13/23</td>\n",
       "      <td>Basic (Ads)</td>\n",
       "      <td>$2.99</td>\n",
       "      <td>NaN</td>\n",
       "      <td>NaN</td>\n",
       "    </tr>\n",
       "    <tr>\n",
       "      <th>1</th>\n",
       "      <td>5002</td>\n",
       "      <td>Aria Keys</td>\n",
       "      <td>Email: melodious.aria@email.edu</td>\n",
       "      <td>3/13/23</td>\n",
       "      <td>NaN</td>\n",
       "      <td>$2.99</td>\n",
       "      <td>NaN</td>\n",
       "      <td>NaN</td>\n",
       "    </tr>\n",
       "    <tr>\n",
       "      <th>2</th>\n",
       "      <td>5004</td>\n",
       "      <td>Lyric Bell</td>\n",
       "      <td>Email: rhythmical.lyric@email.com</td>\n",
       "      <td>3/13/23</td>\n",
       "      <td>NaN</td>\n",
       "      <td>$2.99</td>\n",
       "      <td>NaN</td>\n",
       "      <td>6/1/23</td>\n",
       "    </tr>\n",
       "  </tbody>\n",
       "</table>\n",
       "</div>"
      ],
      "text/plain": [
       "   Customer ID   Customer Name                              Email  \\\n",
       "0         5001  Harmony Greene  Email: harmonious.vibes@email.com   \n",
       "1         5002       Aria Keys    Email: melodious.aria@email.edu   \n",
       "2         5004      Lyric Bell  Email: rhythmical.lyric@email.com   \n",
       "\n",
       "  Member Since Subscription Plan Subscription Rate Discount? Cancellation Date  \n",
       "0      3/13/23       Basic (Ads)            $2.99        NaN               NaN  \n",
       "1      3/13/23               NaN            $2.99        NaN               NaN  \n",
       "2      3/13/23               NaN            $2.99        NaN            6/1/23  "
      ]
     },
     "execution_count": 4,
     "metadata": {},
     "output_type": "execute_result"
    }
   ],
   "source": [
    "customers.head(3)"
   ]
  },
  {
   "cell_type": "code",
   "execution_count": 7,
   "metadata": {},
   "outputs": [],
   "source": [
    "listening_history=pd.read_excel(r\"C:\\Users\\clair\\course\\Data\\maven_music_listening_history.xlsx\",sheet_name=0)"
   ]
  },
  {
   "cell_type": "code",
   "execution_count": 8,
   "metadata": {},
   "outputs": [
    {
     "data": {
      "text/html": [
       "<div>\n",
       "<style scoped>\n",
       "    .dataframe tbody tr th:only-of-type {\n",
       "        vertical-align: middle;\n",
       "    }\n",
       "\n",
       "    .dataframe tbody tr th {\n",
       "        vertical-align: top;\n",
       "    }\n",
       "\n",
       "    .dataframe thead th {\n",
       "        text-align: right;\n",
       "    }\n",
       "</style>\n",
       "<table border=\"1\" class=\"dataframe\">\n",
       "  <thead>\n",
       "    <tr style=\"text-align: right;\">\n",
       "      <th></th>\n",
       "      <th>Customer ID</th>\n",
       "      <th>Session ID</th>\n",
       "      <th>Audio Order</th>\n",
       "      <th>Audio ID</th>\n",
       "      <th>Audio Type</th>\n",
       "    </tr>\n",
       "  </thead>\n",
       "  <tbody>\n",
       "    <tr>\n",
       "      <th>0</th>\n",
       "      <td>5001</td>\n",
       "      <td>100520</td>\n",
       "      <td>1</td>\n",
       "      <td>101</td>\n",
       "      <td>Song</td>\n",
       "    </tr>\n",
       "    <tr>\n",
       "      <th>1</th>\n",
       "      <td>5001</td>\n",
       "      <td>100520</td>\n",
       "      <td>2</td>\n",
       "      <td>102</td>\n",
       "      <td>Song</td>\n",
       "    </tr>\n",
       "    <tr>\n",
       "      <th>2</th>\n",
       "      <td>5001</td>\n",
       "      <td>100520</td>\n",
       "      <td>3</td>\n",
       "      <td>103</td>\n",
       "      <td>Song</td>\n",
       "    </tr>\n",
       "  </tbody>\n",
       "</table>\n",
       "</div>"
      ],
      "text/plain": [
       "   Customer ID  Session ID  Audio Order  Audio ID Audio Type\n",
       "0         5001      100520            1       101       Song\n",
       "1         5001      100520            2       102       Song\n",
       "2         5001      100520            3       103       Song"
      ]
     },
     "execution_count": 8,
     "metadata": {},
     "output_type": "execute_result"
    }
   ],
   "source": [
    "listening_history.head(3)"
   ]
  },
  {
   "cell_type": "code",
   "execution_count": 10,
   "metadata": {},
   "outputs": [],
   "source": [
    "audio=pd.read_excel(r\"C:\\Users\\clair\\course\\Data\\maven_music_listening_history.xlsx\",sheet_name=1)"
   ]
  },
  {
   "cell_type": "code",
   "execution_count": 11,
   "metadata": {},
   "outputs": [
    {
     "data": {
      "text/html": [
       "<div>\n",
       "<style scoped>\n",
       "    .dataframe tbody tr th:only-of-type {\n",
       "        vertical-align: middle;\n",
       "    }\n",
       "\n",
       "    .dataframe tbody tr th {\n",
       "        vertical-align: top;\n",
       "    }\n",
       "\n",
       "    .dataframe thead th {\n",
       "        text-align: right;\n",
       "    }\n",
       "</style>\n",
       "<table border=\"1\" class=\"dataframe\">\n",
       "  <thead>\n",
       "    <tr style=\"text-align: right;\">\n",
       "      <th></th>\n",
       "      <th>ID</th>\n",
       "      <th>Name</th>\n",
       "      <th>Genre</th>\n",
       "      <th>Popularity</th>\n",
       "    </tr>\n",
       "  </thead>\n",
       "  <tbody>\n",
       "    <tr>\n",
       "      <th>0</th>\n",
       "      <td>Song-101</td>\n",
       "      <td>Dance All Night</td>\n",
       "      <td>Pop</td>\n",
       "      <td>1</td>\n",
       "    </tr>\n",
       "    <tr>\n",
       "      <th>1</th>\n",
       "      <td>Song-102</td>\n",
       "      <td>Unbreakable Beat</td>\n",
       "      <td>Pop</td>\n",
       "      <td>2</td>\n",
       "    </tr>\n",
       "    <tr>\n",
       "      <th>2</th>\n",
       "      <td>Song-103</td>\n",
       "      <td>Sunset Boulevard</td>\n",
       "      <td>Pop Music</td>\n",
       "      <td>5</td>\n",
       "    </tr>\n",
       "  </tbody>\n",
       "</table>\n",
       "</div>"
      ],
      "text/plain": [
       "         ID              Name      Genre  Popularity\n",
       "0  Song-101   Dance All Night        Pop           1\n",
       "1  Song-102  Unbreakable Beat        Pop           2\n",
       "2  Song-103  Sunset Boulevard  Pop Music           5"
      ]
     },
     "execution_count": 11,
     "metadata": {},
     "output_type": "execute_result"
    }
   ],
   "source": [
    "audio.head(3)"
   ]
  },
  {
   "cell_type": "code",
   "execution_count": 13,
   "metadata": {},
   "outputs": [],
   "source": [
    "sessions=pd.read_excel(r\"C:\\Users\\clair\\course\\Data\\maven_music_listening_history.xlsx\",sheet_name=2)"
   ]
  },
  {
   "cell_type": "code",
   "execution_count": 14,
   "metadata": {},
   "outputs": [
    {
     "data": {
      "text/html": [
       "<div>\n",
       "<style scoped>\n",
       "    .dataframe tbody tr th:only-of-type {\n",
       "        vertical-align: middle;\n",
       "    }\n",
       "\n",
       "    .dataframe tbody tr th {\n",
       "        vertical-align: top;\n",
       "    }\n",
       "\n",
       "    .dataframe thead th {\n",
       "        text-align: right;\n",
       "    }\n",
       "</style>\n",
       "<table border=\"1\" class=\"dataframe\">\n",
       "  <thead>\n",
       "    <tr style=\"text-align: right;\">\n",
       "      <th></th>\n",
       "      <th>Session ID</th>\n",
       "      <th>Session Log In Time</th>\n",
       "    </tr>\n",
       "  </thead>\n",
       "  <tbody>\n",
       "    <tr>\n",
       "      <th>0</th>\n",
       "      <td>100520</td>\n",
       "      <td>2023-03-13 18:29:00</td>\n",
       "    </tr>\n",
       "    <tr>\n",
       "      <th>1</th>\n",
       "      <td>100522</td>\n",
       "      <td>2023-03-13 22:15:00</td>\n",
       "    </tr>\n",
       "    <tr>\n",
       "      <th>2</th>\n",
       "      <td>100525</td>\n",
       "      <td>2023-03-14 10:01:00</td>\n",
       "    </tr>\n",
       "  </tbody>\n",
       "</table>\n",
       "</div>"
      ],
      "text/plain": [
       "   Session ID Session Log In Time\n",
       "0      100520 2023-03-13 18:29:00\n",
       "1      100522 2023-03-13 22:15:00\n",
       "2      100525 2023-03-14 10:01:00"
      ]
     },
     "execution_count": 14,
     "metadata": {},
     "output_type": "execute_result"
    }
   ],
   "source": [
    "sessions.head(3)"
   ]
  },
  {
   "cell_type": "code",
   "execution_count": null,
   "metadata": {},
   "outputs": [],
   "source": []
  },
  {
   "cell_type": "markdown",
   "metadata": {},
   "source": [
    "## 3. Clean Data"
   ]
  },
  {
   "cell_type": "markdown",
   "metadata": {},
   "source": [
    "### a. Convert Data Types"
   ]
  },
  {
   "cell_type": "markdown",
   "metadata": {},
   "source": [
    "Check the data types of the data in the tables and convert to numeric and datetime values as necessary."
   ]
  },
  {
   "cell_type": "code",
   "execution_count": 15,
   "metadata": {},
   "outputs": [
    {
     "data": {
      "text/plain": [
       "Customer ID           int64\n",
       "Customer Name        object\n",
       "Email                object\n",
       "Member Since         object\n",
       "Subscription Plan    object\n",
       "Subscription Rate    object\n",
       "Discount?            object\n",
       "Cancellation Date    object\n",
       "dtype: object"
      ]
     },
     "execution_count": 15,
     "metadata": {},
     "output_type": "execute_result"
    }
   ],
   "source": [
    "customers.dtypes"
   ]
  },
  {
   "cell_type": "code",
   "execution_count": 16,
   "metadata": {},
   "outputs": [
    {
     "data": {
      "text/html": [
       "<div>\n",
       "<style scoped>\n",
       "    .dataframe tbody tr th:only-of-type {\n",
       "        vertical-align: middle;\n",
       "    }\n",
       "\n",
       "    .dataframe tbody tr th {\n",
       "        vertical-align: top;\n",
       "    }\n",
       "\n",
       "    .dataframe thead th {\n",
       "        text-align: right;\n",
       "    }\n",
       "</style>\n",
       "<table border=\"1\" class=\"dataframe\">\n",
       "  <thead>\n",
       "    <tr style=\"text-align: right;\">\n",
       "      <th></th>\n",
       "      <th>Customer ID</th>\n",
       "      <th>Customer Name</th>\n",
       "      <th>Email</th>\n",
       "      <th>Member Since</th>\n",
       "      <th>Subscription Plan</th>\n",
       "      <th>Subscription Rate</th>\n",
       "      <th>Discount?</th>\n",
       "      <th>Cancellation Date</th>\n",
       "    </tr>\n",
       "  </thead>\n",
       "  <tbody>\n",
       "    <tr>\n",
       "      <th>0</th>\n",
       "      <td>5001</td>\n",
       "      <td>Harmony Greene</td>\n",
       "      <td>Email: harmonious.vibes@email.com</td>\n",
       "      <td>3/13/23</td>\n",
       "      <td>Basic (Ads)</td>\n",
       "      <td>$2.99</td>\n",
       "      <td>NaN</td>\n",
       "      <td>NaN</td>\n",
       "    </tr>\n",
       "    <tr>\n",
       "      <th>1</th>\n",
       "      <td>5002</td>\n",
       "      <td>Aria Keys</td>\n",
       "      <td>Email: melodious.aria@email.edu</td>\n",
       "      <td>3/13/23</td>\n",
       "      <td>NaN</td>\n",
       "      <td>$2.99</td>\n",
       "      <td>NaN</td>\n",
       "      <td>NaN</td>\n",
       "    </tr>\n",
       "    <tr>\n",
       "      <th>2</th>\n",
       "      <td>5004</td>\n",
       "      <td>Lyric Bell</td>\n",
       "      <td>Email: rhythmical.lyric@email.com</td>\n",
       "      <td>3/13/23</td>\n",
       "      <td>NaN</td>\n",
       "      <td>$2.99</td>\n",
       "      <td>NaN</td>\n",
       "      <td>6/1/23</td>\n",
       "    </tr>\n",
       "  </tbody>\n",
       "</table>\n",
       "</div>"
      ],
      "text/plain": [
       "   Customer ID   Customer Name                              Email  \\\n",
       "0         5001  Harmony Greene  Email: harmonious.vibes@email.com   \n",
       "1         5002       Aria Keys    Email: melodious.aria@email.edu   \n",
       "2         5004      Lyric Bell  Email: rhythmical.lyric@email.com   \n",
       "\n",
       "  Member Since Subscription Plan Subscription Rate Discount? Cancellation Date  \n",
       "0      3/13/23       Basic (Ads)            $2.99        NaN               NaN  \n",
       "1      3/13/23               NaN            $2.99        NaN               NaN  \n",
       "2      3/13/23               NaN            $2.99        NaN            6/1/23  "
      ]
     },
     "execution_count": 16,
     "metadata": {},
     "output_type": "execute_result"
    }
   ],
   "source": [
    "customers.head(3)"
   ]
  },
  {
   "cell_type": "code",
   "execution_count": null,
   "metadata": {},
   "outputs": [],
   "source": [
    "# Member Since and Cancellation Rate should be datetime, Subscription Rate should be float "
   ]
  },
  {
   "cell_type": "code",
   "execution_count": 18,
   "metadata": {},
   "outputs": [
    {
     "name": "stderr",
     "output_type": "stream",
     "text": [
      "C:\\Users\\clair\\AppData\\Local\\Temp\\ipykernel_13964\\2923853103.py:1: UserWarning: Could not infer format, so each element will be parsed individually, falling back to `dateutil`. To ensure parsing is consistent and as-expected, please specify a format.\n",
      "  customers['Member Since']=pd.to_datetime(customers['Member Since'])\n"
     ]
    }
   ],
   "source": [
    "customers['Member Since']=pd.to_datetime(customers['Member Since'])"
   ]
  },
  {
   "cell_type": "code",
   "execution_count": 19,
   "metadata": {},
   "outputs": [
    {
     "name": "stderr",
     "output_type": "stream",
     "text": [
      "C:\\Users\\clair\\AppData\\Local\\Temp\\ipykernel_13964\\2483621144.py:1: UserWarning: Could not infer format, so each element will be parsed individually, falling back to `dateutil`. To ensure parsing is consistent and as-expected, please specify a format.\n",
      "  customers['Cancellation Date']=pd.to_datetime(customers['Cancellation Date'])\n"
     ]
    }
   ],
   "source": [
    "customers['Cancellation Date']=pd.to_datetime(customers['Cancellation Date'])"
   ]
  },
  {
   "cell_type": "code",
   "execution_count": null,
   "metadata": {},
   "outputs": [],
   "source": [
    "# drop $ sign first then change it into float "
   ]
  },
  {
   "cell_type": "code",
   "execution_count": 22,
   "metadata": {},
   "outputs": [],
   "source": [
    "customers['Subscription Rate']=customers['Subscription Rate'].str.replace('$','').astype(float)"
   ]
  },
  {
   "cell_type": "code",
   "execution_count": 23,
   "metadata": {},
   "outputs": [
    {
     "data": {
      "text/plain": [
       "Customer ID     int64\n",
       "Session ID      int64\n",
       "Audio Order     int64\n",
       "Audio ID        int64\n",
       "Audio Type     object\n",
       "dtype: object"
      ]
     },
     "execution_count": 23,
     "metadata": {},
     "output_type": "execute_result"
    }
   ],
   "source": [
    "listening_history.dtypes  # look good "
   ]
  },
  {
   "cell_type": "code",
   "execution_count": 25,
   "metadata": {},
   "outputs": [
    {
     "data": {
      "text/plain": [
       "ID            object\n",
       "Name          object\n",
       "Genre         object\n",
       "Popularity     int64\n",
       "dtype: object"
      ]
     },
     "execution_count": 25,
     "metadata": {},
     "output_type": "execute_result"
    }
   ],
   "source": [
    "audio.dtypes  #look good"
   ]
  },
  {
   "cell_type": "code",
   "execution_count": 26,
   "metadata": {},
   "outputs": [
    {
     "data": {
      "text/plain": [
       "Session ID                      int64\n",
       "Session Log In Time    datetime64[ns]\n",
       "dtype: object"
      ]
     },
     "execution_count": 26,
     "metadata": {},
     "output_type": "execute_result"
    }
   ],
   "source": [
    "sessions.dtypes  # look good"
   ]
  },
  {
   "cell_type": "code",
   "execution_count": null,
   "metadata": {},
   "outputs": [],
   "source": []
  },
  {
   "cell_type": "code",
   "execution_count": null,
   "metadata": {},
   "outputs": [],
   "source": []
  },
  {
   "cell_type": "markdown",
   "metadata": {},
   "source": [
    "### b. Resolve Data Issues"
   ]
  },
  {
   "cell_type": "markdown",
   "metadata": {},
   "source": [
    "Check for missing data, inconsistent text and typos, duplicate data and outliers."
   ]
  },
  {
   "cell_type": "markdown",
   "metadata": {},
   "source": [
    "#### i. Missing Data"
   ]
  },
  {
   "cell_type": "code",
   "execution_count": 27,
   "metadata": {},
   "outputs": [
    {
     "name": "stdout",
     "output_type": "stream",
     "text": [
      "<class 'pandas.core.frame.DataFrame'>\n",
      "RangeIndex: 30 entries, 0 to 29\n",
      "Data columns (total 8 columns):\n",
      " #   Column             Non-Null Count  Dtype         \n",
      "---  ------             --------------  -----         \n",
      " 0   Customer ID        30 non-null     int64         \n",
      " 1   Customer Name      30 non-null     object        \n",
      " 2   Email              30 non-null     object        \n",
      " 3   Member Since       30 non-null     datetime64[ns]\n",
      " 4   Subscription Plan  25 non-null     object        \n",
      " 5   Subscription Rate  30 non-null     float64       \n",
      " 6   Discount?          7 non-null      object        \n",
      " 7   Cancellation Date  13 non-null     datetime64[ns]\n",
      "dtypes: datetime64[ns](2), float64(1), int64(1), object(4)\n",
      "memory usage: 2.0+ KB\n"
     ]
    }
   ],
   "source": [
    "customers.info()"
   ]
  },
  {
   "cell_type": "code",
   "execution_count": null,
   "metadata": {},
   "outputs": [],
   "source": [
    "# Subscription Plan  25 non-null ;Discount? 7 non-null ; Cancellation Date 13 non-null has nulls,\n",
    "#in which Cancellation date missing value means not cancelled "
   ]
  },
  {
   "cell_type": "code",
   "execution_count": 29,
   "metadata": {},
   "outputs": [
    {
     "data": {
      "text/html": [
       "<div>\n",
       "<style scoped>\n",
       "    .dataframe tbody tr th:only-of-type {\n",
       "        vertical-align: middle;\n",
       "    }\n",
       "\n",
       "    .dataframe tbody tr th {\n",
       "        vertical-align: top;\n",
       "    }\n",
       "\n",
       "    .dataframe thead th {\n",
       "        text-align: right;\n",
       "    }\n",
       "</style>\n",
       "<table border=\"1\" class=\"dataframe\">\n",
       "  <thead>\n",
       "    <tr style=\"text-align: right;\">\n",
       "      <th></th>\n",
       "      <th>Customer ID</th>\n",
       "      <th>Customer Name</th>\n",
       "      <th>Email</th>\n",
       "      <th>Member Since</th>\n",
       "      <th>Subscription Plan</th>\n",
       "      <th>Subscription Rate</th>\n",
       "      <th>Discount?</th>\n",
       "      <th>Cancellation Date</th>\n",
       "    </tr>\n",
       "  </thead>\n",
       "  <tbody>\n",
       "    <tr>\n",
       "      <th>1</th>\n",
       "      <td>5002</td>\n",
       "      <td>Aria Keys</td>\n",
       "      <td>Email: melodious.aria@email.edu</td>\n",
       "      <td>2023-03-13</td>\n",
       "      <td>NaN</td>\n",
       "      <td>2.99</td>\n",
       "      <td>NaN</td>\n",
       "      <td>NaT</td>\n",
       "    </tr>\n",
       "    <tr>\n",
       "      <th>2</th>\n",
       "      <td>5004</td>\n",
       "      <td>Lyric Bell</td>\n",
       "      <td>Email: rhythmical.lyric@email.com</td>\n",
       "      <td>2023-03-13</td>\n",
       "      <td>NaN</td>\n",
       "      <td>2.99</td>\n",
       "      <td>NaN</td>\n",
       "      <td>2023-06-01</td>\n",
       "    </tr>\n",
       "    <tr>\n",
       "      <th>4</th>\n",
       "      <td>5338</td>\n",
       "      <td>Rhythm Dixon</td>\n",
       "      <td>Email: beats.by.rhythm@email.edu</td>\n",
       "      <td>2023-03-20</td>\n",
       "      <td>NaN</td>\n",
       "      <td>2.99</td>\n",
       "      <td>NaN</td>\n",
       "      <td>NaT</td>\n",
       "    </tr>\n",
       "    <tr>\n",
       "      <th>5</th>\n",
       "      <td>5404</td>\n",
       "      <td>Jazz Saxton</td>\n",
       "      <td>Email: jazzy.sax@email.com</td>\n",
       "      <td>2023-03-20</td>\n",
       "      <td>NaN</td>\n",
       "      <td>2.99</td>\n",
       "      <td>NaN</td>\n",
       "      <td>2023-06-03</td>\n",
       "    </tr>\n",
       "    <tr>\n",
       "      <th>11</th>\n",
       "      <td>5827</td>\n",
       "      <td>Rhythm Franklin</td>\n",
       "      <td>Email: rhythmic.franklin@email.edu</td>\n",
       "      <td>2023-03-28</td>\n",
       "      <td>NaN</td>\n",
       "      <td>2.99</td>\n",
       "      <td>NaN</td>\n",
       "      <td>NaT</td>\n",
       "    </tr>\n",
       "  </tbody>\n",
       "</table>\n",
       "</div>"
      ],
      "text/plain": [
       "    Customer ID    Customer Name                               Email  \\\n",
       "1          5002        Aria Keys     Email: melodious.aria@email.edu   \n",
       "2          5004       Lyric Bell   Email: rhythmical.lyric@email.com   \n",
       "4          5338     Rhythm Dixon    Email: beats.by.rhythm@email.edu   \n",
       "5          5404      Jazz Saxton          Email: jazzy.sax@email.com   \n",
       "11         5827  Rhythm Franklin  Email: rhythmic.franklin@email.edu   \n",
       "\n",
       "   Member Since Subscription Plan  Subscription Rate Discount?  \\\n",
       "1    2023-03-13               NaN               2.99       NaN   \n",
       "2    2023-03-13               NaN               2.99       NaN   \n",
       "4    2023-03-20               NaN               2.99       NaN   \n",
       "5    2023-03-20               NaN               2.99       NaN   \n",
       "11   2023-03-28               NaN               2.99       NaN   \n",
       "\n",
       "   Cancellation Date  \n",
       "1                NaT  \n",
       "2         2023-06-01  \n",
       "4                NaT  \n",
       "5         2023-06-03  \n",
       "11               NaT  "
      ]
     },
     "execution_count": 29,
     "metadata": {},
     "output_type": "execute_result"
    }
   ],
   "source": [
    "customers[customers['Subscription Plan'].isna()]"
   ]
  },
  {
   "cell_type": "code",
   "execution_count": 31,
   "metadata": {},
   "outputs": [
    {
     "data": {
      "text/html": [
       "<div>\n",
       "<style scoped>\n",
       "    .dataframe tbody tr th:only-of-type {\n",
       "        vertical-align: middle;\n",
       "    }\n",
       "\n",
       "    .dataframe tbody tr th {\n",
       "        vertical-align: top;\n",
       "    }\n",
       "\n",
       "    .dataframe thead th {\n",
       "        text-align: right;\n",
       "    }\n",
       "</style>\n",
       "<table border=\"1\" class=\"dataframe\">\n",
       "  <thead>\n",
       "    <tr style=\"text-align: right;\">\n",
       "      <th></th>\n",
       "      <th>Customer ID</th>\n",
       "      <th>Customer Name</th>\n",
       "      <th>Email</th>\n",
       "      <th>Member Since</th>\n",
       "      <th>Subscription Plan</th>\n",
       "      <th>Subscription Rate</th>\n",
       "      <th>Discount?</th>\n",
       "      <th>Cancellation Date</th>\n",
       "    </tr>\n",
       "  </thead>\n",
       "  <tbody>\n",
       "    <tr>\n",
       "      <th>0</th>\n",
       "      <td>5001</td>\n",
       "      <td>Harmony Greene</td>\n",
       "      <td>Email: harmonious.vibes@email.com</td>\n",
       "      <td>2023-03-13</td>\n",
       "      <td>Basic (Ads)</td>\n",
       "      <td>2.99</td>\n",
       "      <td>NaN</td>\n",
       "      <td>NaT</td>\n",
       "    </tr>\n",
       "    <tr>\n",
       "      <th>3</th>\n",
       "      <td>5267</td>\n",
       "      <td>Rock Bassett</td>\n",
       "      <td>Email: groovy.rock@email.com</td>\n",
       "      <td>2023-03-20</td>\n",
       "      <td>Basic (Ads)</td>\n",
       "      <td>2.99</td>\n",
       "      <td>NaN</td>\n",
       "      <td>NaT</td>\n",
       "    </tr>\n",
       "    <tr>\n",
       "      <th>6</th>\n",
       "      <td>5581</td>\n",
       "      <td>Reed Sharp</td>\n",
       "      <td>Email: sharp.tunes@email.com</td>\n",
       "      <td>2023-03-21</td>\n",
       "      <td>Premium (No Ads)</td>\n",
       "      <td>9.99</td>\n",
       "      <td>NaN</td>\n",
       "      <td>NaT</td>\n",
       "    </tr>\n",
       "    <tr>\n",
       "      <th>7</th>\n",
       "      <td>5759</td>\n",
       "      <td>Carol Kingbird</td>\n",
       "      <td>Email: songbird.carol@email.com</td>\n",
       "      <td>2023-03-22</td>\n",
       "      <td>Premium (No Ads)</td>\n",
       "      <td>9.99</td>\n",
       "      <td>NaN</td>\n",
       "      <td>2023-06-02</td>\n",
       "    </tr>\n",
       "    <tr>\n",
       "      <th>8</th>\n",
       "      <td>5761</td>\n",
       "      <td>Sonata Nash</td>\n",
       "      <td>Email: musical.sonata@email.com</td>\n",
       "      <td>2023-03-28</td>\n",
       "      <td>Premium (No Ads)</td>\n",
       "      <td>9.99</td>\n",
       "      <td>NaN</td>\n",
       "      <td>NaT</td>\n",
       "    </tr>\n",
       "  </tbody>\n",
       "</table>\n",
       "</div>"
      ],
      "text/plain": [
       "   Customer ID   Customer Name                              Email  \\\n",
       "0         5001  Harmony Greene  Email: harmonious.vibes@email.com   \n",
       "3         5267    Rock Bassett       Email: groovy.rock@email.com   \n",
       "6         5581      Reed Sharp       Email: sharp.tunes@email.com   \n",
       "7         5759  Carol Kingbird    Email: songbird.carol@email.com   \n",
       "8         5761     Sonata Nash    Email: musical.sonata@email.com   \n",
       "\n",
       "  Member Since Subscription Plan  Subscription Rate Discount?  \\\n",
       "0   2023-03-13       Basic (Ads)               2.99       NaN   \n",
       "3   2023-03-20       Basic (Ads)               2.99       NaN   \n",
       "6   2023-03-21  Premium (No Ads)               9.99       NaN   \n",
       "7   2023-03-22  Premium (No Ads)               9.99       NaN   \n",
       "8   2023-03-28  Premium (No Ads)               9.99       NaN   \n",
       "\n",
       "  Cancellation Date  \n",
       "0               NaT  \n",
       "3               NaT  \n",
       "6               NaT  \n",
       "7        2023-06-02  \n",
       "8               NaT  "
      ]
     },
     "execution_count": 31,
     "metadata": {},
     "output_type": "execute_result"
    }
   ],
   "source": [
    "customers[customers['Subscription Plan'].notna()].head()"
   ]
  },
  {
   "cell_type": "code",
   "execution_count": 32,
   "metadata": {},
   "outputs": [
    {
     "data": {
      "text/plain": [
       "Subscription Plan\n",
       "Premium (No Ads)    13\n",
       "Basic (Ads)         12\n",
       "Name: count, dtype: int64"
      ]
     },
     "execution_count": 32,
     "metadata": {},
     "output_type": "execute_result"
    }
   ],
   "source": [
    "customers['Subscription Plan'].value_counts()"
   ]
  },
  {
   "cell_type": "code",
   "execution_count": null,
   "metadata": {},
   "outputs": [],
   "source": [
    "# accoding to the above information, customers who paid 2.99 plan all 'Basic (Ads)'"
   ]
  },
  {
   "cell_type": "code",
   "execution_count": 34,
   "metadata": {},
   "outputs": [],
   "source": [
    "customers['Subscription Plan']=customers['Subscription Plan'].fillna('Basic (Ads)')"
   ]
  },
  {
   "cell_type": "code",
   "execution_count": 35,
   "metadata": {},
   "outputs": [
    {
     "data": {
      "text/html": [
       "<div>\n",
       "<style scoped>\n",
       "    .dataframe tbody tr th:only-of-type {\n",
       "        vertical-align: middle;\n",
       "    }\n",
       "\n",
       "    .dataframe tbody tr th {\n",
       "        vertical-align: top;\n",
       "    }\n",
       "\n",
       "    .dataframe thead th {\n",
       "        text-align: right;\n",
       "    }\n",
       "</style>\n",
       "<table border=\"1\" class=\"dataframe\">\n",
       "  <thead>\n",
       "    <tr style=\"text-align: right;\">\n",
       "      <th></th>\n",
       "      <th>Customer ID</th>\n",
       "      <th>Customer Name</th>\n",
       "      <th>Email</th>\n",
       "      <th>Member Since</th>\n",
       "      <th>Subscription Plan</th>\n",
       "      <th>Subscription Rate</th>\n",
       "      <th>Discount?</th>\n",
       "      <th>Cancellation Date</th>\n",
       "    </tr>\n",
       "  </thead>\n",
       "  <tbody>\n",
       "    <tr>\n",
       "      <th>0</th>\n",
       "      <td>5001</td>\n",
       "      <td>Harmony Greene</td>\n",
       "      <td>Email: harmonious.vibes@email.com</td>\n",
       "      <td>2023-03-13</td>\n",
       "      <td>Basic (Ads)</td>\n",
       "      <td>2.99</td>\n",
       "      <td>NaN</td>\n",
       "      <td>NaT</td>\n",
       "    </tr>\n",
       "    <tr>\n",
       "      <th>1</th>\n",
       "      <td>5002</td>\n",
       "      <td>Aria Keys</td>\n",
       "      <td>Email: melodious.aria@email.edu</td>\n",
       "      <td>2023-03-13</td>\n",
       "      <td>Basic (Ads)</td>\n",
       "      <td>2.99</td>\n",
       "      <td>NaN</td>\n",
       "      <td>NaT</td>\n",
       "    </tr>\n",
       "    <tr>\n",
       "      <th>2</th>\n",
       "      <td>5004</td>\n",
       "      <td>Lyric Bell</td>\n",
       "      <td>Email: rhythmical.lyric@email.com</td>\n",
       "      <td>2023-03-13</td>\n",
       "      <td>Basic (Ads)</td>\n",
       "      <td>2.99</td>\n",
       "      <td>NaN</td>\n",
       "      <td>2023-06-01</td>\n",
       "    </tr>\n",
       "    <tr>\n",
       "      <th>3</th>\n",
       "      <td>5267</td>\n",
       "      <td>Rock Bassett</td>\n",
       "      <td>Email: groovy.rock@email.com</td>\n",
       "      <td>2023-03-20</td>\n",
       "      <td>Basic (Ads)</td>\n",
       "      <td>2.99</td>\n",
       "      <td>NaN</td>\n",
       "      <td>NaT</td>\n",
       "    </tr>\n",
       "    <tr>\n",
       "      <th>4</th>\n",
       "      <td>5338</td>\n",
       "      <td>Rhythm Dixon</td>\n",
       "      <td>Email: beats.by.rhythm@email.edu</td>\n",
       "      <td>2023-03-20</td>\n",
       "      <td>Basic (Ads)</td>\n",
       "      <td>2.99</td>\n",
       "      <td>NaN</td>\n",
       "      <td>NaT</td>\n",
       "    </tr>\n",
       "    <tr>\n",
       "      <th>5</th>\n",
       "      <td>5404</td>\n",
       "      <td>Jazz Saxton</td>\n",
       "      <td>Email: jazzy.sax@email.com</td>\n",
       "      <td>2023-03-20</td>\n",
       "      <td>Basic (Ads)</td>\n",
       "      <td>2.99</td>\n",
       "      <td>NaN</td>\n",
       "      <td>2023-06-03</td>\n",
       "    </tr>\n",
       "    <tr>\n",
       "      <th>6</th>\n",
       "      <td>5581</td>\n",
       "      <td>Reed Sharp</td>\n",
       "      <td>Email: sharp.tunes@email.com</td>\n",
       "      <td>2023-03-21</td>\n",
       "      <td>Premium (No Ads)</td>\n",
       "      <td>9.99</td>\n",
       "      <td>NaN</td>\n",
       "      <td>NaT</td>\n",
       "    </tr>\n",
       "    <tr>\n",
       "      <th>7</th>\n",
       "      <td>5759</td>\n",
       "      <td>Carol Kingbird</td>\n",
       "      <td>Email: songbird.carol@email.com</td>\n",
       "      <td>2023-03-22</td>\n",
       "      <td>Premium (No Ads)</td>\n",
       "      <td>9.99</td>\n",
       "      <td>NaN</td>\n",
       "      <td>2023-06-02</td>\n",
       "    </tr>\n",
       "    <tr>\n",
       "      <th>8</th>\n",
       "      <td>5761</td>\n",
       "      <td>Sonata Nash</td>\n",
       "      <td>Email: musical.sonata@email.com</td>\n",
       "      <td>2023-03-28</td>\n",
       "      <td>Premium (No Ads)</td>\n",
       "      <td>9.99</td>\n",
       "      <td>NaN</td>\n",
       "      <td>NaT</td>\n",
       "    </tr>\n",
       "    <tr>\n",
       "      <th>9</th>\n",
       "      <td>5763</td>\n",
       "      <td>Jazz Coleman</td>\n",
       "      <td>Email: coleman.jazzmaster@email.com</td>\n",
       "      <td>2023-03-28</td>\n",
       "      <td>Basic (Ads)</td>\n",
       "      <td>2.99</td>\n",
       "      <td>NaN</td>\n",
       "      <td>NaT</td>\n",
       "    </tr>\n",
       "    <tr>\n",
       "      <th>10</th>\n",
       "      <td>5826</td>\n",
       "      <td>Chord Hayes</td>\n",
       "      <td>Email: harmonic.chord@email.com</td>\n",
       "      <td>2023-03-28</td>\n",
       "      <td>Basic (Ads)</td>\n",
       "      <td>2.99</td>\n",
       "      <td>NaN</td>\n",
       "      <td>NaT</td>\n",
       "    </tr>\n",
       "    <tr>\n",
       "      <th>11</th>\n",
       "      <td>5827</td>\n",
       "      <td>Rhythm Franklin</td>\n",
       "      <td>Email: rhythmic.franklin@email.edu</td>\n",
       "      <td>2023-03-28</td>\n",
       "      <td>Basic (Ads)</td>\n",
       "      <td>2.99</td>\n",
       "      <td>NaN</td>\n",
       "      <td>NaT</td>\n",
       "    </tr>\n",
       "    <tr>\n",
       "      <th>12</th>\n",
       "      <td>6029</td>\n",
       "      <td>Chord Campbell</td>\n",
       "      <td>Email: campbell.chordify@email.com</td>\n",
       "      <td>2023-03-29</td>\n",
       "      <td>Premium (No Ads)</td>\n",
       "      <td>9.99</td>\n",
       "      <td>NaN</td>\n",
       "      <td>2023-06-02</td>\n",
       "    </tr>\n",
       "    <tr>\n",
       "      <th>13</th>\n",
       "      <td>6092</td>\n",
       "      <td>Benny Beat</td>\n",
       "      <td>Email: rhythmic.benny@email.com</td>\n",
       "      <td>2023-04-01</td>\n",
       "      <td>Basic (Ads)</td>\n",
       "      <td>2.99</td>\n",
       "      <td>NaN</td>\n",
       "      <td>2023-06-01</td>\n",
       "    </tr>\n",
       "    <tr>\n",
       "      <th>14</th>\n",
       "      <td>6163</td>\n",
       "      <td>Melody Parks</td>\n",
       "      <td>Email: park.of.melodies@email.com</td>\n",
       "      <td>2023-04-05</td>\n",
       "      <td>Premium (No Ads)</td>\n",
       "      <td>9.99</td>\n",
       "      <td>NaN</td>\n",
       "      <td>NaT</td>\n",
       "    </tr>\n",
       "    <tr>\n",
       "      <th>15</th>\n",
       "      <td>6229</td>\n",
       "      <td>Symphony Rhodes</td>\n",
       "      <td>Email: rhodes.symphony@email.com</td>\n",
       "      <td>2023-04-06</td>\n",
       "      <td>Premium (No Ads)</td>\n",
       "      <td>99.99</td>\n",
       "      <td>NaN</td>\n",
       "      <td>2023-06-02</td>\n",
       "    </tr>\n",
       "    <tr>\n",
       "      <th>16</th>\n",
       "      <td>6406</td>\n",
       "      <td>Beatrice Sharp</td>\n",
       "      <td>Email: beats.by.beatrice@email.com</td>\n",
       "      <td>2023-04-08</td>\n",
       "      <td>Basic (Ads)</td>\n",
       "      <td>2.99</td>\n",
       "      <td>NaN</td>\n",
       "      <td>NaT</td>\n",
       "    </tr>\n",
       "    <tr>\n",
       "      <th>17</th>\n",
       "      <td>6584</td>\n",
       "      <td>Bobby Bass</td>\n",
       "      <td>Email: bass.master.bobby@email.edu</td>\n",
       "      <td>2023-04-09</td>\n",
       "      <td>Basic (Ads)</td>\n",
       "      <td>2.99</td>\n",
       "      <td>NaN</td>\n",
       "      <td>NaT</td>\n",
       "    </tr>\n",
       "    <tr>\n",
       "      <th>18</th>\n",
       "      <td>6586</td>\n",
       "      <td>Lyric Saunders</td>\n",
       "      <td>Email: lyrical.saunders@email.edu</td>\n",
       "      <td>2023-04-16</td>\n",
       "      <td>Basic (Ads)</td>\n",
       "      <td>2.99</td>\n",
       "      <td>NaN</td>\n",
       "      <td>NaT</td>\n",
       "    </tr>\n",
       "    <tr>\n",
       "      <th>19</th>\n",
       "      <td>6588</td>\n",
       "      <td>Harmony Bass</td>\n",
       "      <td>Email: bass.harmony@email.com</td>\n",
       "      <td>2023-04-16</td>\n",
       "      <td>Basic (Ads)</td>\n",
       "      <td>2.99</td>\n",
       "      <td>NaN</td>\n",
       "      <td>2023-06-01</td>\n",
       "    </tr>\n",
       "    <tr>\n",
       "      <th>20</th>\n",
       "      <td>6821</td>\n",
       "      <td>Reed Flat</td>\n",
       "      <td>Email: flat.tunes@email.edu</td>\n",
       "      <td>2023-04-24</td>\n",
       "      <td>Basic (Ads)</td>\n",
       "      <td>2.99</td>\n",
       "      <td>NaN</td>\n",
       "      <td>NaT</td>\n",
       "    </tr>\n",
       "    <tr>\n",
       "      <th>24</th>\n",
       "      <td>7158</td>\n",
       "      <td>Harmony Wallace</td>\n",
       "      <td>Email: wallace.harmony@email.com</td>\n",
       "      <td>2023-05-07</td>\n",
       "      <td>Basic (Ads)</td>\n",
       "      <td>2.99</td>\n",
       "      <td>NaN</td>\n",
       "      <td>NaT</td>\n",
       "    </tr>\n",
       "    <tr>\n",
       "      <th>27</th>\n",
       "      <td>7579</td>\n",
       "      <td>Jazz Drummond</td>\n",
       "      <td>Email: drumming.jazz@email.com</td>\n",
       "      <td>2023-05-15</td>\n",
       "      <td>Basic (Ads)</td>\n",
       "      <td>2.99</td>\n",
       "      <td>NaN</td>\n",
       "      <td>NaT</td>\n",
       "    </tr>\n",
       "  </tbody>\n",
       "</table>\n",
       "</div>"
      ],
      "text/plain": [
       "    Customer ID    Customer Name                                Email  \\\n",
       "0          5001   Harmony Greene    Email: harmonious.vibes@email.com   \n",
       "1          5002        Aria Keys      Email: melodious.aria@email.edu   \n",
       "2          5004       Lyric Bell    Email: rhythmical.lyric@email.com   \n",
       "3          5267     Rock Bassett         Email: groovy.rock@email.com   \n",
       "4          5338     Rhythm Dixon     Email: beats.by.rhythm@email.edu   \n",
       "5          5404      Jazz Saxton           Email: jazzy.sax@email.com   \n",
       "6          5581       Reed Sharp         Email: sharp.tunes@email.com   \n",
       "7          5759   Carol Kingbird      Email: songbird.carol@email.com   \n",
       "8          5761      Sonata Nash      Email: musical.sonata@email.com   \n",
       "9          5763     Jazz Coleman  Email: coleman.jazzmaster@email.com   \n",
       "10         5826      Chord Hayes      Email: harmonic.chord@email.com   \n",
       "11         5827  Rhythm Franklin   Email: rhythmic.franklin@email.edu   \n",
       "12         6029   Chord Campbell   Email: campbell.chordify@email.com   \n",
       "13         6092       Benny Beat      Email: rhythmic.benny@email.com   \n",
       "14         6163     Melody Parks    Email: park.of.melodies@email.com   \n",
       "15         6229  Symphony Rhodes     Email: rhodes.symphony@email.com   \n",
       "16         6406   Beatrice Sharp   Email: beats.by.beatrice@email.com   \n",
       "17         6584       Bobby Bass   Email: bass.master.bobby@email.edu   \n",
       "18         6586   Lyric Saunders    Email: lyrical.saunders@email.edu   \n",
       "19         6588     Harmony Bass        Email: bass.harmony@email.com   \n",
       "20         6821        Reed Flat          Email: flat.tunes@email.edu   \n",
       "24         7158  Harmony Wallace     Email: wallace.harmony@email.com   \n",
       "27         7579    Jazz Drummond       Email: drumming.jazz@email.com   \n",
       "\n",
       "   Member Since Subscription Plan  Subscription Rate Discount?  \\\n",
       "0    2023-03-13       Basic (Ads)               2.99       NaN   \n",
       "1    2023-03-13       Basic (Ads)               2.99       NaN   \n",
       "2    2023-03-13       Basic (Ads)               2.99       NaN   \n",
       "3    2023-03-20       Basic (Ads)               2.99       NaN   \n",
       "4    2023-03-20       Basic (Ads)               2.99       NaN   \n",
       "5    2023-03-20       Basic (Ads)               2.99       NaN   \n",
       "6    2023-03-21  Premium (No Ads)               9.99       NaN   \n",
       "7    2023-03-22  Premium (No Ads)               9.99       NaN   \n",
       "8    2023-03-28  Premium (No Ads)               9.99       NaN   \n",
       "9    2023-03-28       Basic (Ads)               2.99       NaN   \n",
       "10   2023-03-28       Basic (Ads)               2.99       NaN   \n",
       "11   2023-03-28       Basic (Ads)               2.99       NaN   \n",
       "12   2023-03-29  Premium (No Ads)               9.99       NaN   \n",
       "13   2023-04-01       Basic (Ads)               2.99       NaN   \n",
       "14   2023-04-05  Premium (No Ads)               9.99       NaN   \n",
       "15   2023-04-06  Premium (No Ads)              99.99       NaN   \n",
       "16   2023-04-08       Basic (Ads)               2.99       NaN   \n",
       "17   2023-04-09       Basic (Ads)               2.99       NaN   \n",
       "18   2023-04-16       Basic (Ads)               2.99       NaN   \n",
       "19   2023-04-16       Basic (Ads)               2.99       NaN   \n",
       "20   2023-04-24       Basic (Ads)               2.99       NaN   \n",
       "24   2023-05-07       Basic (Ads)               2.99       NaN   \n",
       "27   2023-05-15       Basic (Ads)               2.99       NaN   \n",
       "\n",
       "   Cancellation Date  \n",
       "0                NaT  \n",
       "1                NaT  \n",
       "2         2023-06-01  \n",
       "3                NaT  \n",
       "4                NaT  \n",
       "5         2023-06-03  \n",
       "6                NaT  \n",
       "7         2023-06-02  \n",
       "8                NaT  \n",
       "9                NaT  \n",
       "10               NaT  \n",
       "11               NaT  \n",
       "12        2023-06-02  \n",
       "13        2023-06-01  \n",
       "14               NaT  \n",
       "15        2023-06-02  \n",
       "16               NaT  \n",
       "17               NaT  \n",
       "18               NaT  \n",
       "19        2023-06-01  \n",
       "20               NaT  \n",
       "24               NaT  \n",
       "27               NaT  "
      ]
     },
     "execution_count": 35,
     "metadata": {},
     "output_type": "execute_result"
    }
   ],
   "source": [
    "customers[customers['Discount?'].isna()]  # subscription rate is not 7.99"
   ]
  },
  {
   "cell_type": "code",
   "execution_count": 36,
   "metadata": {},
   "outputs": [
    {
     "data": {
      "text/html": [
       "<div>\n",
       "<style scoped>\n",
       "    .dataframe tbody tr th:only-of-type {\n",
       "        vertical-align: middle;\n",
       "    }\n",
       "\n",
       "    .dataframe tbody tr th {\n",
       "        vertical-align: top;\n",
       "    }\n",
       "\n",
       "    .dataframe thead th {\n",
       "        text-align: right;\n",
       "    }\n",
       "</style>\n",
       "<table border=\"1\" class=\"dataframe\">\n",
       "  <thead>\n",
       "    <tr style=\"text-align: right;\">\n",
       "      <th></th>\n",
       "      <th>Customer ID</th>\n",
       "      <th>Customer Name</th>\n",
       "      <th>Email</th>\n",
       "      <th>Member Since</th>\n",
       "      <th>Subscription Plan</th>\n",
       "      <th>Subscription Rate</th>\n",
       "      <th>Discount?</th>\n",
       "      <th>Cancellation Date</th>\n",
       "    </tr>\n",
       "  </thead>\n",
       "  <tbody>\n",
       "    <tr>\n",
       "      <th>21</th>\n",
       "      <td>6822</td>\n",
       "      <td>Kiki Keys</td>\n",
       "      <td>Email: kiki.keys.piano@email.com</td>\n",
       "      <td>2023-05-01</td>\n",
       "      <td>Premium (No Ads)</td>\n",
       "      <td>7.99</td>\n",
       "      <td>Yes</td>\n",
       "      <td>NaT</td>\n",
       "    </tr>\n",
       "    <tr>\n",
       "      <th>22</th>\n",
       "      <td>6824</td>\n",
       "      <td>Greta Groove</td>\n",
       "      <td>Email: groovy.greta@email.com</td>\n",
       "      <td>2023-05-01</td>\n",
       "      <td>Premium (No Ads)</td>\n",
       "      <td>7.99</td>\n",
       "      <td>Yes</td>\n",
       "      <td>2023-06-02</td>\n",
       "    </tr>\n",
       "    <tr>\n",
       "      <th>23</th>\n",
       "      <td>7087</td>\n",
       "      <td>Harmony Heart</td>\n",
       "      <td>Email: heartfelt.harmony@email.com</td>\n",
       "      <td>2023-05-01</td>\n",
       "      <td>Premium (No Ads)</td>\n",
       "      <td>7.99</td>\n",
       "      <td>Yes</td>\n",
       "      <td>2023-06-02</td>\n",
       "    </tr>\n",
       "    <tr>\n",
       "      <th>25</th>\n",
       "      <td>7224</td>\n",
       "      <td>Melody Fitzgerald</td>\n",
       "      <td>Email: fitzgerald.melody@email.com</td>\n",
       "      <td>2023-05-08</td>\n",
       "      <td>Premium (No Ads)</td>\n",
       "      <td>7.99</td>\n",
       "      <td>Yes</td>\n",
       "      <td>2023-06-01</td>\n",
       "    </tr>\n",
       "    <tr>\n",
       "      <th>26</th>\n",
       "      <td>7401</td>\n",
       "      <td>Reed Murphy</td>\n",
       "      <td>Email: murphy.reed.music@email.com</td>\n",
       "      <td>2023-05-08</td>\n",
       "      <td>Premium (No Ads)</td>\n",
       "      <td>7.99</td>\n",
       "      <td>Yes</td>\n",
       "      <td>2023-06-01</td>\n",
       "    </tr>\n",
       "    <tr>\n",
       "      <th>28</th>\n",
       "      <td>7581</td>\n",
       "      <td>Lyric Keys</td>\n",
       "      <td>Email: keysoflyric@email.com</td>\n",
       "      <td>2023-05-16</td>\n",
       "      <td>Premium (No Ads)</td>\n",
       "      <td>7.99</td>\n",
       "      <td>Yes</td>\n",
       "      <td>2023-06-03</td>\n",
       "    </tr>\n",
       "    <tr>\n",
       "      <th>29</th>\n",
       "      <td>7583</td>\n",
       "      <td>Melody Singer</td>\n",
       "      <td>Email: melodic.singer@email.com</td>\n",
       "      <td>2023-05-16</td>\n",
       "      <td>Premium (No Ads)</td>\n",
       "      <td>7.99</td>\n",
       "      <td>Yes</td>\n",
       "      <td>2023-06-01</td>\n",
       "    </tr>\n",
       "  </tbody>\n",
       "</table>\n",
       "</div>"
      ],
      "text/plain": [
       "    Customer ID      Customer Name                               Email  \\\n",
       "21         6822          Kiki Keys    Email: kiki.keys.piano@email.com   \n",
       "22         6824       Greta Groove       Email: groovy.greta@email.com   \n",
       "23         7087      Harmony Heart  Email: heartfelt.harmony@email.com   \n",
       "25         7224  Melody Fitzgerald  Email: fitzgerald.melody@email.com   \n",
       "26         7401        Reed Murphy  Email: murphy.reed.music@email.com   \n",
       "28         7581         Lyric Keys        Email: keysoflyric@email.com   \n",
       "29         7583      Melody Singer     Email: melodic.singer@email.com   \n",
       "\n",
       "   Member Since Subscription Plan  Subscription Rate Discount?  \\\n",
       "21   2023-05-01  Premium (No Ads)               7.99       Yes   \n",
       "22   2023-05-01  Premium (No Ads)               7.99       Yes   \n",
       "23   2023-05-01  Premium (No Ads)               7.99       Yes   \n",
       "25   2023-05-08  Premium (No Ads)               7.99       Yes   \n",
       "26   2023-05-08  Premium (No Ads)               7.99       Yes   \n",
       "28   2023-05-16  Premium (No Ads)               7.99       Yes   \n",
       "29   2023-05-16  Premium (No Ads)               7.99       Yes   \n",
       "\n",
       "   Cancellation Date  \n",
       "21               NaT  \n",
       "22        2023-06-02  \n",
       "23        2023-06-02  \n",
       "25        2023-06-01  \n",
       "26        2023-06-01  \n",
       "28        2023-06-03  \n",
       "29        2023-06-01  "
      ]
     },
     "execution_count": 36,
     "metadata": {},
     "output_type": "execute_result"
    }
   ],
   "source": [
    "customers[customers['Discount?'].notna()]  # subcription Rate is 7.99"
   ]
  },
  {
   "cell_type": "code",
   "execution_count": null,
   "metadata": {},
   "outputs": [],
   "source": [
    "# all missing values should be filled with 'No'"
   ]
  },
  {
   "cell_type": "code",
   "execution_count": 37,
   "metadata": {},
   "outputs": [],
   "source": [
    "customers['Discount?']=customers['Discount?'].fillna('No')"
   ]
  },
  {
   "cell_type": "code",
   "execution_count": 38,
   "metadata": {},
   "outputs": [
    {
     "data": {
      "text/plain": [
       "Discount?\n",
       "No     23\n",
       "Yes     7\n",
       "Name: count, dtype: int64"
      ]
     },
     "execution_count": 38,
     "metadata": {},
     "output_type": "execute_result"
    }
   ],
   "source": [
    "customers['Discount?'].value_counts()"
   ]
  },
  {
   "cell_type": "code",
   "execution_count": null,
   "metadata": {},
   "outputs": [],
   "source": [
    "# change it into 1 for yes and 0 for no"
   ]
  },
  {
   "cell_type": "code",
   "execution_count": 39,
   "metadata": {},
   "outputs": [],
   "source": [
    "import numpy as np"
   ]
  },
  {
   "cell_type": "code",
   "execution_count": 41,
   "metadata": {},
   "outputs": [],
   "source": [
    "customers['Discount?']=np.where(customers['Discount?']=='Yes',1 ,0)"
   ]
  },
  {
   "cell_type": "code",
   "execution_count": 42,
   "metadata": {},
   "outputs": [
    {
     "name": "stdout",
     "output_type": "stream",
     "text": [
      "<class 'pandas.core.frame.DataFrame'>\n",
      "RangeIndex: 505 entries, 0 to 504\n",
      "Data columns (total 5 columns):\n",
      " #   Column       Non-Null Count  Dtype \n",
      "---  ------       --------------  ----- \n",
      " 0   Customer ID  505 non-null    int64 \n",
      " 1   Session ID   505 non-null    int64 \n",
      " 2   Audio Order  505 non-null    int64 \n",
      " 3   Audio ID     505 non-null    int64 \n",
      " 4   Audio Type   505 non-null    object\n",
      "dtypes: int64(4), object(1)\n",
      "memory usage: 19.9+ KB\n"
     ]
    }
   ],
   "source": [
    "listening_history.info()   # no missing value"
   ]
  },
  {
   "cell_type": "code",
   "execution_count": 43,
   "metadata": {},
   "outputs": [
    {
     "name": "stdout",
     "output_type": "stream",
     "text": [
      "<class 'pandas.core.frame.DataFrame'>\n",
      "RangeIndex: 17 entries, 0 to 16\n",
      "Data columns (total 4 columns):\n",
      " #   Column      Non-Null Count  Dtype \n",
      "---  ------      --------------  ----- \n",
      " 0   ID          17 non-null     object\n",
      " 1   Name        17 non-null     object\n",
      " 2   Genre       17 non-null     object\n",
      " 3   Popularity  17 non-null     int64 \n",
      "dtypes: int64(1), object(3)\n",
      "memory usage: 676.0+ bytes\n"
     ]
    }
   ],
   "source": [
    "audio.info()  # no missing value"
   ]
  },
  {
   "cell_type": "code",
   "execution_count": 44,
   "metadata": {},
   "outputs": [
    {
     "name": "stdout",
     "output_type": "stream",
     "text": [
      "<class 'pandas.core.frame.DataFrame'>\n",
      "RangeIndex: 90 entries, 0 to 89\n",
      "Data columns (total 2 columns):\n",
      " #   Column               Non-Null Count  Dtype         \n",
      "---  ------               --------------  -----         \n",
      " 0   Session ID           90 non-null     int64         \n",
      " 1   Session Log In Time  90 non-null     datetime64[ns]\n",
      "dtypes: datetime64[ns](1), int64(1)\n",
      "memory usage: 1.5 KB\n"
     ]
    }
   ],
   "source": [
    "sessions.info()   # no missing value"
   ]
  },
  {
   "cell_type": "code",
   "execution_count": null,
   "metadata": {},
   "outputs": [],
   "source": []
  },
  {
   "cell_type": "markdown",
   "metadata": {},
   "source": [
    "#### iii. Duplicate Rows"
   ]
  },
  {
   "cell_type": "code",
   "execution_count": 45,
   "metadata": {},
   "outputs": [
    {
     "data": {
      "text/html": [
       "<div>\n",
       "<style scoped>\n",
       "    .dataframe tbody tr th:only-of-type {\n",
       "        vertical-align: middle;\n",
       "    }\n",
       "\n",
       "    .dataframe tbody tr th {\n",
       "        vertical-align: top;\n",
       "    }\n",
       "\n",
       "    .dataframe thead th {\n",
       "        text-align: right;\n",
       "    }\n",
       "</style>\n",
       "<table border=\"1\" class=\"dataframe\">\n",
       "  <thead>\n",
       "    <tr style=\"text-align: right;\">\n",
       "      <th></th>\n",
       "      <th>Customer ID</th>\n",
       "      <th>Customer Name</th>\n",
       "      <th>Email</th>\n",
       "      <th>Member Since</th>\n",
       "      <th>Subscription Plan</th>\n",
       "      <th>Subscription Rate</th>\n",
       "      <th>Discount?</th>\n",
       "      <th>Cancellation Date</th>\n",
       "    </tr>\n",
       "  </thead>\n",
       "  <tbody>\n",
       "  </tbody>\n",
       "</table>\n",
       "</div>"
      ],
      "text/plain": [
       "Empty DataFrame\n",
       "Columns: [Customer ID, Customer Name, Email, Member Since, Subscription Plan, Subscription Rate, Discount?, Cancellation Date]\n",
       "Index: []"
      ]
     },
     "execution_count": 45,
     "metadata": {},
     "output_type": "execute_result"
    }
   ],
   "source": [
    "customers[customers.duplicated()]"
   ]
  },
  {
   "cell_type": "code",
   "execution_count": 47,
   "metadata": {},
   "outputs": [
    {
     "data": {
      "text/html": [
       "<div>\n",
       "<style scoped>\n",
       "    .dataframe tbody tr th:only-of-type {\n",
       "        vertical-align: middle;\n",
       "    }\n",
       "\n",
       "    .dataframe tbody tr th {\n",
       "        vertical-align: top;\n",
       "    }\n",
       "\n",
       "    .dataframe thead th {\n",
       "        text-align: right;\n",
       "    }\n",
       "</style>\n",
       "<table border=\"1\" class=\"dataframe\">\n",
       "  <thead>\n",
       "    <tr style=\"text-align: right;\">\n",
       "      <th></th>\n",
       "      <th>Customer ID</th>\n",
       "      <th>Session ID</th>\n",
       "      <th>Audio Order</th>\n",
       "      <th>Audio ID</th>\n",
       "      <th>Audio Type</th>\n",
       "    </tr>\n",
       "  </thead>\n",
       "  <tbody>\n",
       "  </tbody>\n",
       "</table>\n",
       "</div>"
      ],
      "text/plain": [
       "Empty DataFrame\n",
       "Columns: [Customer ID, Session ID, Audio Order, Audio ID, Audio Type]\n",
       "Index: []"
      ]
     },
     "execution_count": 47,
     "metadata": {},
     "output_type": "execute_result"
    }
   ],
   "source": [
    "listening_history[listening_history.duplicated()]"
   ]
  },
  {
   "cell_type": "code",
   "execution_count": 48,
   "metadata": {},
   "outputs": [
    {
     "data": {
      "text/html": [
       "<div>\n",
       "<style scoped>\n",
       "    .dataframe tbody tr th:only-of-type {\n",
       "        vertical-align: middle;\n",
       "    }\n",
       "\n",
       "    .dataframe tbody tr th {\n",
       "        vertical-align: top;\n",
       "    }\n",
       "\n",
       "    .dataframe thead th {\n",
       "        text-align: right;\n",
       "    }\n",
       "</style>\n",
       "<table border=\"1\" class=\"dataframe\">\n",
       "  <thead>\n",
       "    <tr style=\"text-align: right;\">\n",
       "      <th></th>\n",
       "      <th>ID</th>\n",
       "      <th>Name</th>\n",
       "      <th>Genre</th>\n",
       "      <th>Popularity</th>\n",
       "    </tr>\n",
       "  </thead>\n",
       "  <tbody>\n",
       "  </tbody>\n",
       "</table>\n",
       "</div>"
      ],
      "text/plain": [
       "Empty DataFrame\n",
       "Columns: [ID, Name, Genre, Popularity]\n",
       "Index: []"
      ]
     },
     "execution_count": 48,
     "metadata": {},
     "output_type": "execute_result"
    }
   ],
   "source": [
    "audio[audio.duplicated()]"
   ]
  },
  {
   "cell_type": "code",
   "execution_count": 49,
   "metadata": {},
   "outputs": [
    {
     "data": {
      "text/html": [
       "<div>\n",
       "<style scoped>\n",
       "    .dataframe tbody tr th:only-of-type {\n",
       "        vertical-align: middle;\n",
       "    }\n",
       "\n",
       "    .dataframe tbody tr th {\n",
       "        vertical-align: top;\n",
       "    }\n",
       "\n",
       "    .dataframe thead th {\n",
       "        text-align: right;\n",
       "    }\n",
       "</style>\n",
       "<table border=\"1\" class=\"dataframe\">\n",
       "  <thead>\n",
       "    <tr style=\"text-align: right;\">\n",
       "      <th></th>\n",
       "      <th>Session ID</th>\n",
       "      <th>Session Log In Time</th>\n",
       "    </tr>\n",
       "  </thead>\n",
       "  <tbody>\n",
       "  </tbody>\n",
       "</table>\n",
       "</div>"
      ],
      "text/plain": [
       "Empty DataFrame\n",
       "Columns: [Session ID, Session Log In Time]\n",
       "Index: []"
      ]
     },
     "execution_count": 49,
     "metadata": {},
     "output_type": "execute_result"
    }
   ],
   "source": [
    "sessions[sessions.duplicated()]"
   ]
  },
  {
   "cell_type": "code",
   "execution_count": null,
   "metadata": {},
   "outputs": [],
   "source": [
    "# no duplicates cleaned "
   ]
  },
  {
   "cell_type": "code",
   "execution_count": null,
   "metadata": {},
   "outputs": [],
   "source": []
  },
  {
   "cell_type": "markdown",
   "metadata": {},
   "source": [
    "#### iv. Outliers"
   ]
  },
  {
   "cell_type": "code",
   "execution_count": 50,
   "metadata": {},
   "outputs": [
    {
     "data": {
      "text/html": [
       "<div>\n",
       "<style scoped>\n",
       "    .dataframe tbody tr th:only-of-type {\n",
       "        vertical-align: middle;\n",
       "    }\n",
       "\n",
       "    .dataframe tbody tr th {\n",
       "        vertical-align: top;\n",
       "    }\n",
       "\n",
       "    .dataframe thead th {\n",
       "        text-align: right;\n",
       "    }\n",
       "</style>\n",
       "<table border=\"1\" class=\"dataframe\">\n",
       "  <thead>\n",
       "    <tr style=\"text-align: right;\">\n",
       "      <th></th>\n",
       "      <th>Customer ID</th>\n",
       "      <th>Member Since</th>\n",
       "      <th>Subscription Rate</th>\n",
       "      <th>Discount?</th>\n",
       "      <th>Cancellation Date</th>\n",
       "    </tr>\n",
       "  </thead>\n",
       "  <tbody>\n",
       "    <tr>\n",
       "      <th>count</th>\n",
       "      <td>30.000000</td>\n",
       "      <td>30</td>\n",
       "      <td>30.000000</td>\n",
       "      <td>30.000000</td>\n",
       "      <td>13</td>\n",
       "    </tr>\n",
       "    <tr>\n",
       "      <th>mean</th>\n",
       "      <td>6276.333333</td>\n",
       "      <td>2023-04-10 06:24:00</td>\n",
       "      <td>8.556667</td>\n",
       "      <td>0.233333</td>\n",
       "      <td>2023-06-01 16:36:55.384615424</td>\n",
       "    </tr>\n",
       "    <tr>\n",
       "      <th>min</th>\n",
       "      <td>5001.000000</td>\n",
       "      <td>2023-03-13 00:00:00</td>\n",
       "      <td>2.990000</td>\n",
       "      <td>0.000000</td>\n",
       "      <td>2023-06-01 00:00:00</td>\n",
       "    </tr>\n",
       "    <tr>\n",
       "      <th>25%</th>\n",
       "      <td>5759.500000</td>\n",
       "      <td>2023-03-23 12:00:00</td>\n",
       "      <td>2.990000</td>\n",
       "      <td>0.000000</td>\n",
       "      <td>2023-06-01 00:00:00</td>\n",
       "    </tr>\n",
       "    <tr>\n",
       "      <th>50%</th>\n",
       "      <td>6196.000000</td>\n",
       "      <td>2023-04-05 12:00:00</td>\n",
       "      <td>2.990000</td>\n",
       "      <td>0.000000</td>\n",
       "      <td>2023-06-02 00:00:00</td>\n",
       "    </tr>\n",
       "    <tr>\n",
       "      <th>75%</th>\n",
       "      <td>6823.500000</td>\n",
       "      <td>2023-05-01 00:00:00</td>\n",
       "      <td>7.990000</td>\n",
       "      <td>0.000000</td>\n",
       "      <td>2023-06-02 00:00:00</td>\n",
       "    </tr>\n",
       "    <tr>\n",
       "      <th>max</th>\n",
       "      <td>7583.000000</td>\n",
       "      <td>2023-05-16 00:00:00</td>\n",
       "      <td>99.990000</td>\n",
       "      <td>1.000000</td>\n",
       "      <td>2023-06-03 00:00:00</td>\n",
       "    </tr>\n",
       "    <tr>\n",
       "      <th>std</th>\n",
       "      <td>814.255587</td>\n",
       "      <td>NaN</td>\n",
       "      <td>17.517840</td>\n",
       "      <td>0.430183</td>\n",
       "      <td>NaN</td>\n",
       "    </tr>\n",
       "  </tbody>\n",
       "</table>\n",
       "</div>"
      ],
      "text/plain": [
       "       Customer ID         Member Since  Subscription Rate  Discount?  \\\n",
       "count    30.000000                   30          30.000000  30.000000   \n",
       "mean   6276.333333  2023-04-10 06:24:00           8.556667   0.233333   \n",
       "min    5001.000000  2023-03-13 00:00:00           2.990000   0.000000   \n",
       "25%    5759.500000  2023-03-23 12:00:00           2.990000   0.000000   \n",
       "50%    6196.000000  2023-04-05 12:00:00           2.990000   0.000000   \n",
       "75%    6823.500000  2023-05-01 00:00:00           7.990000   0.000000   \n",
       "max    7583.000000  2023-05-16 00:00:00          99.990000   1.000000   \n",
       "std     814.255587                  NaN          17.517840   0.430183   \n",
       "\n",
       "                   Cancellation Date  \n",
       "count                             13  \n",
       "mean   2023-06-01 16:36:55.384615424  \n",
       "min              2023-06-01 00:00:00  \n",
       "25%              2023-06-01 00:00:00  \n",
       "50%              2023-06-02 00:00:00  \n",
       "75%              2023-06-02 00:00:00  \n",
       "max              2023-06-03 00:00:00  \n",
       "std                              NaN  "
      ]
     },
     "execution_count": 50,
     "metadata": {},
     "output_type": "execute_result"
    }
   ],
   "source": [
    "customers.describe()"
   ]
  },
  {
   "cell_type": "code",
   "execution_count": null,
   "metadata": {},
   "outputs": [],
   "source": [
    "#Subscription Rate has outlier(s) and it is 99.99"
   ]
  },
  {
   "cell_type": "code",
   "execution_count": 51,
   "metadata": {},
   "outputs": [
    {
     "data": {
      "text/plain": [
       "Subscription Rate\n",
       "2.99     17\n",
       "7.99      7\n",
       "9.99      5\n",
       "99.99     1\n",
       "Name: count, dtype: int64"
      ]
     },
     "execution_count": 51,
     "metadata": {},
     "output_type": "execute_result"
    }
   ],
   "source": [
    "customers['Subscription Rate'].value_counts()"
   ]
  },
  {
   "cell_type": "code",
   "execution_count": 52,
   "metadata": {},
   "outputs": [
    {
     "data": {
      "text/html": [
       "<div>\n",
       "<style scoped>\n",
       "    .dataframe tbody tr th:only-of-type {\n",
       "        vertical-align: middle;\n",
       "    }\n",
       "\n",
       "    .dataframe tbody tr th {\n",
       "        vertical-align: top;\n",
       "    }\n",
       "\n",
       "    .dataframe thead th {\n",
       "        text-align: right;\n",
       "    }\n",
       "</style>\n",
       "<table border=\"1\" class=\"dataframe\">\n",
       "  <thead>\n",
       "    <tr style=\"text-align: right;\">\n",
       "      <th></th>\n",
       "      <th>Customer ID</th>\n",
       "      <th>Customer Name</th>\n",
       "      <th>Email</th>\n",
       "      <th>Member Since</th>\n",
       "      <th>Subscription Plan</th>\n",
       "      <th>Subscription Rate</th>\n",
       "      <th>Discount?</th>\n",
       "      <th>Cancellation Date</th>\n",
       "    </tr>\n",
       "  </thead>\n",
       "  <tbody>\n",
       "    <tr>\n",
       "      <th>15</th>\n",
       "      <td>6229</td>\n",
       "      <td>Symphony Rhodes</td>\n",
       "      <td>Email: rhodes.symphony@email.com</td>\n",
       "      <td>2023-04-06</td>\n",
       "      <td>Premium (No Ads)</td>\n",
       "      <td>99.99</td>\n",
       "      <td>0</td>\n",
       "      <td>2023-06-02</td>\n",
       "    </tr>\n",
       "  </tbody>\n",
       "</table>\n",
       "</div>"
      ],
      "text/plain": [
       "    Customer ID    Customer Name                             Email  \\\n",
       "15         6229  Symphony Rhodes  Email: rhodes.symphony@email.com   \n",
       "\n",
       "   Member Since Subscription Plan  Subscription Rate  Discount?  \\\n",
       "15   2023-04-06  Premium (No Ads)              99.99          0   \n",
       "\n",
       "   Cancellation Date  \n",
       "15        2023-06-02  "
      ]
     },
     "execution_count": 52,
     "metadata": {},
     "output_type": "execute_result"
    }
   ],
   "source": [
    "customers[customers['Subscription Rate']==99.99]"
   ]
  },
  {
   "cell_type": "code",
   "execution_count": null,
   "metadata": {},
   "outputs": [],
   "source": [
    "# change 99.99 into 9.99"
   ]
  },
  {
   "cell_type": "code",
   "execution_count": 53,
   "metadata": {},
   "outputs": [],
   "source": [
    "customers.iloc[15,5]=9.99"
   ]
  },
  {
   "cell_type": "code",
   "execution_count": 54,
   "metadata": {},
   "outputs": [
    {
     "data": {
      "text/html": [
       "<div>\n",
       "<style scoped>\n",
       "    .dataframe tbody tr th:only-of-type {\n",
       "        vertical-align: middle;\n",
       "    }\n",
       "\n",
       "    .dataframe tbody tr th {\n",
       "        vertical-align: top;\n",
       "    }\n",
       "\n",
       "    .dataframe thead th {\n",
       "        text-align: right;\n",
       "    }\n",
       "</style>\n",
       "<table border=\"1\" class=\"dataframe\">\n",
       "  <thead>\n",
       "    <tr style=\"text-align: right;\">\n",
       "      <th></th>\n",
       "      <th>Customer ID</th>\n",
       "      <th>Session ID</th>\n",
       "      <th>Audio Order</th>\n",
       "      <th>Audio ID</th>\n",
       "    </tr>\n",
       "  </thead>\n",
       "  <tbody>\n",
       "    <tr>\n",
       "      <th>count</th>\n",
       "      <td>505.000000</td>\n",
       "      <td>505.000000</td>\n",
       "      <td>505.000000</td>\n",
       "      <td>505.000000</td>\n",
       "    </tr>\n",
       "    <tr>\n",
       "      <th>mean</th>\n",
       "      <td>6112.247525</td>\n",
       "      <td>105225.554455</td>\n",
       "      <td>4.138614</td>\n",
       "      <td>112.063366</td>\n",
       "    </tr>\n",
       "    <tr>\n",
       "      <th>std</th>\n",
       "      <td>832.861221</td>\n",
       "      <td>3625.879577</td>\n",
       "      <td>2.669008</td>\n",
       "      <td>24.670285</td>\n",
       "    </tr>\n",
       "    <tr>\n",
       "      <th>min</th>\n",
       "      <td>5001.000000</td>\n",
       "      <td>100520.000000</td>\n",
       "      <td>1.000000</td>\n",
       "      <td>101.000000</td>\n",
       "    </tr>\n",
       "    <tr>\n",
       "      <th>25%</th>\n",
       "      <td>5267.000000</td>\n",
       "      <td>101925.000000</td>\n",
       "      <td>2.000000</td>\n",
       "      <td>103.000000</td>\n",
       "    </tr>\n",
       "    <tr>\n",
       "      <th>50%</th>\n",
       "      <td>6029.000000</td>\n",
       "      <td>105116.000000</td>\n",
       "      <td>4.000000</td>\n",
       "      <td>105.000000</td>\n",
       "    </tr>\n",
       "    <tr>\n",
       "      <th>75%</th>\n",
       "      <td>6822.000000</td>\n",
       "      <td>109654.000000</td>\n",
       "      <td>6.000000</td>\n",
       "      <td>109.000000</td>\n",
       "    </tr>\n",
       "    <tr>\n",
       "      <th>max</th>\n",
       "      <td>7583.000000</td>\n",
       "      <td>111333.000000</td>\n",
       "      <td>15.000000</td>\n",
       "      <td>205.000000</td>\n",
       "    </tr>\n",
       "  </tbody>\n",
       "</table>\n",
       "</div>"
      ],
      "text/plain": [
       "       Customer ID     Session ID  Audio Order    Audio ID\n",
       "count   505.000000     505.000000   505.000000  505.000000\n",
       "mean   6112.247525  105225.554455     4.138614  112.063366\n",
       "std     832.861221    3625.879577     2.669008   24.670285\n",
       "min    5001.000000  100520.000000     1.000000  101.000000\n",
       "25%    5267.000000  101925.000000     2.000000  103.000000\n",
       "50%    6029.000000  105116.000000     4.000000  105.000000\n",
       "75%    6822.000000  109654.000000     6.000000  109.000000\n",
       "max    7583.000000  111333.000000    15.000000  205.000000"
      ]
     },
     "execution_count": 54,
     "metadata": {},
     "output_type": "execute_result"
    }
   ],
   "source": [
    "listening_history.describe() # good"
   ]
  },
  {
   "cell_type": "code",
   "execution_count": 56,
   "metadata": {},
   "outputs": [
    {
     "data": {
      "text/html": [
       "<div>\n",
       "<style scoped>\n",
       "    .dataframe tbody tr th:only-of-type {\n",
       "        vertical-align: middle;\n",
       "    }\n",
       "\n",
       "    .dataframe tbody tr th {\n",
       "        vertical-align: top;\n",
       "    }\n",
       "\n",
       "    .dataframe thead th {\n",
       "        text-align: right;\n",
       "    }\n",
       "</style>\n",
       "<table border=\"1\" class=\"dataframe\">\n",
       "  <thead>\n",
       "    <tr style=\"text-align: right;\">\n",
       "      <th></th>\n",
       "      <th>Popularity</th>\n",
       "    </tr>\n",
       "  </thead>\n",
       "  <tbody>\n",
       "    <tr>\n",
       "      <th>count</th>\n",
       "      <td>17.000000</td>\n",
       "    </tr>\n",
       "    <tr>\n",
       "      <th>mean</th>\n",
       "      <td>21.058824</td>\n",
       "    </tr>\n",
       "    <tr>\n",
       "      <th>std</th>\n",
       "      <td>23.381271</td>\n",
       "    </tr>\n",
       "    <tr>\n",
       "      <th>min</th>\n",
       "      <td>1.000000</td>\n",
       "    </tr>\n",
       "    <tr>\n",
       "      <th>25%</th>\n",
       "      <td>4.000000</td>\n",
       "    </tr>\n",
       "    <tr>\n",
       "      <th>50%</th>\n",
       "      <td>10.000000</td>\n",
       "    </tr>\n",
       "    <tr>\n",
       "      <th>75%</th>\n",
       "      <td>28.000000</td>\n",
       "    </tr>\n",
       "    <tr>\n",
       "      <th>max</th>\n",
       "      <td>80.000000</td>\n",
       "    </tr>\n",
       "  </tbody>\n",
       "</table>\n",
       "</div>"
      ],
      "text/plain": [
       "       Popularity\n",
       "count   17.000000\n",
       "mean    21.058824\n",
       "std     23.381271\n",
       "min      1.000000\n",
       "25%      4.000000\n",
       "50%     10.000000\n",
       "75%     28.000000\n",
       "max     80.000000"
      ]
     },
     "execution_count": 56,
     "metadata": {},
     "output_type": "execute_result"
    }
   ],
   "source": [
    "audio.describe()  # no outliers"
   ]
  },
  {
   "cell_type": "code",
   "execution_count": 60,
   "metadata": {},
   "outputs": [
    {
     "data": {
      "text/html": [
       "<div>\n",
       "<style scoped>\n",
       "    .dataframe tbody tr th:only-of-type {\n",
       "        vertical-align: middle;\n",
       "    }\n",
       "\n",
       "    .dataframe tbody tr th {\n",
       "        vertical-align: top;\n",
       "    }\n",
       "\n",
       "    .dataframe thead th {\n",
       "        text-align: right;\n",
       "    }\n",
       "</style>\n",
       "<table border=\"1\" class=\"dataframe\">\n",
       "  <thead>\n",
       "    <tr style=\"text-align: right;\">\n",
       "      <th></th>\n",
       "      <th>Session ID</th>\n",
       "      <th>Session Log In Time</th>\n",
       "    </tr>\n",
       "  </thead>\n",
       "  <tbody>\n",
       "    <tr>\n",
       "      <th>count</th>\n",
       "      <td>90.000000</td>\n",
       "      <td>90</td>\n",
       "    </tr>\n",
       "    <tr>\n",
       "      <th>mean</th>\n",
       "      <td>105619.788889</td>\n",
       "      <td>2023-04-27 08:18:34.000000512</td>\n",
       "    </tr>\n",
       "    <tr>\n",
       "      <th>min</th>\n",
       "      <td>100520.000000</td>\n",
       "      <td>2023-03-13 14:14:00</td>\n",
       "    </tr>\n",
       "    <tr>\n",
       "      <th>25%</th>\n",
       "      <td>102149.000000</td>\n",
       "      <td>2023-04-05 21:21:30</td>\n",
       "    </tr>\n",
       "    <tr>\n",
       "      <th>50%</th>\n",
       "      <td>105390.500000</td>\n",
       "      <td>2023-05-03 20:03:00</td>\n",
       "    </tr>\n",
       "    <tr>\n",
       "      <th>75%</th>\n",
       "      <td>109658.250000</td>\n",
       "      <td>2023-05-18 22:17:30</td>\n",
       "    </tr>\n",
       "    <tr>\n",
       "      <th>max</th>\n",
       "      <td>111333.000000</td>\n",
       "      <td>2023-05-31 06:03:00</td>\n",
       "    </tr>\n",
       "    <tr>\n",
       "      <th>std</th>\n",
       "      <td>3616.208569</td>\n",
       "      <td>NaN</td>\n",
       "    </tr>\n",
       "  </tbody>\n",
       "</table>\n",
       "</div>"
      ],
      "text/plain": [
       "          Session ID            Session Log In Time\n",
       "count      90.000000                             90\n",
       "mean   105619.788889  2023-04-27 08:18:34.000000512\n",
       "min    100520.000000            2023-03-13 14:14:00\n",
       "25%    102149.000000            2023-04-05 21:21:30\n",
       "50%    105390.500000            2023-05-03 20:03:00\n",
       "75%    109658.250000            2023-05-18 22:17:30\n",
       "max    111333.000000            2023-05-31 06:03:00\n",
       "std      3616.208569                            NaN"
      ]
     },
     "execution_count": 60,
     "metadata": {},
     "output_type": "execute_result"
    }
   ],
   "source": [
    "sessions.describe() # no outliers"
   ]
  },
  {
   "cell_type": "markdown",
   "metadata": {},
   "source": [
    "##  V. inconsistency\n",
    "\n"
   ]
  },
  {
   "cell_type": "code",
   "execution_count": 61,
   "metadata": {},
   "outputs": [
    {
     "data": {
      "text/html": [
       "<div>\n",
       "<style scoped>\n",
       "    .dataframe tbody tr th:only-of-type {\n",
       "        vertical-align: middle;\n",
       "    }\n",
       "\n",
       "    .dataframe tbody tr th {\n",
       "        vertical-align: top;\n",
       "    }\n",
       "\n",
       "    .dataframe thead th {\n",
       "        text-align: right;\n",
       "    }\n",
       "</style>\n",
       "<table border=\"1\" class=\"dataframe\">\n",
       "  <thead>\n",
       "    <tr style=\"text-align: right;\">\n",
       "      <th></th>\n",
       "      <th>Customer ID</th>\n",
       "      <th>Customer Name</th>\n",
       "      <th>Email</th>\n",
       "      <th>Member Since</th>\n",
       "      <th>Subscription Plan</th>\n",
       "      <th>Subscription Rate</th>\n",
       "      <th>Discount?</th>\n",
       "      <th>Cancellation Date</th>\n",
       "    </tr>\n",
       "  </thead>\n",
       "  <tbody>\n",
       "    <tr>\n",
       "      <th>0</th>\n",
       "      <td>5001</td>\n",
       "      <td>Harmony Greene</td>\n",
       "      <td>Email: harmonious.vibes@email.com</td>\n",
       "      <td>2023-03-13</td>\n",
       "      <td>Basic (Ads)</td>\n",
       "      <td>2.99</td>\n",
       "      <td>0</td>\n",
       "      <td>NaT</td>\n",
       "    </tr>\n",
       "    <tr>\n",
       "      <th>1</th>\n",
       "      <td>5002</td>\n",
       "      <td>Aria Keys</td>\n",
       "      <td>Email: melodious.aria@email.edu</td>\n",
       "      <td>2023-03-13</td>\n",
       "      <td>Basic (Ads)</td>\n",
       "      <td>2.99</td>\n",
       "      <td>0</td>\n",
       "      <td>NaT</td>\n",
       "    </tr>\n",
       "    <tr>\n",
       "      <th>2</th>\n",
       "      <td>5004</td>\n",
       "      <td>Lyric Bell</td>\n",
       "      <td>Email: rhythmical.lyric@email.com</td>\n",
       "      <td>2023-03-13</td>\n",
       "      <td>Basic (Ads)</td>\n",
       "      <td>2.99</td>\n",
       "      <td>0</td>\n",
       "      <td>2023-06-01</td>\n",
       "    </tr>\n",
       "    <tr>\n",
       "      <th>3</th>\n",
       "      <td>5267</td>\n",
       "      <td>Rock Bassett</td>\n",
       "      <td>Email: groovy.rock@email.com</td>\n",
       "      <td>2023-03-20</td>\n",
       "      <td>Basic (Ads)</td>\n",
       "      <td>2.99</td>\n",
       "      <td>0</td>\n",
       "      <td>NaT</td>\n",
       "    </tr>\n",
       "    <tr>\n",
       "      <th>4</th>\n",
       "      <td>5338</td>\n",
       "      <td>Rhythm Dixon</td>\n",
       "      <td>Email: beats.by.rhythm@email.edu</td>\n",
       "      <td>2023-03-20</td>\n",
       "      <td>Basic (Ads)</td>\n",
       "      <td>2.99</td>\n",
       "      <td>0</td>\n",
       "      <td>NaT</td>\n",
       "    </tr>\n",
       "  </tbody>\n",
       "</table>\n",
       "</div>"
      ],
      "text/plain": [
       "   Customer ID   Customer Name                              Email  \\\n",
       "0         5001  Harmony Greene  Email: harmonious.vibes@email.com   \n",
       "1         5002       Aria Keys    Email: melodious.aria@email.edu   \n",
       "2         5004      Lyric Bell  Email: rhythmical.lyric@email.com   \n",
       "3         5267    Rock Bassett       Email: groovy.rock@email.com   \n",
       "4         5338    Rhythm Dixon   Email: beats.by.rhythm@email.edu   \n",
       "\n",
       "  Member Since Subscription Plan  Subscription Rate  Discount?  \\\n",
       "0   2023-03-13       Basic (Ads)               2.99          0   \n",
       "1   2023-03-13       Basic (Ads)               2.99          0   \n",
       "2   2023-03-13       Basic (Ads)               2.99          0   \n",
       "3   2023-03-20       Basic (Ads)               2.99          0   \n",
       "4   2023-03-20       Basic (Ads)               2.99          0   \n",
       "\n",
       "  Cancellation Date  \n",
       "0               NaT  \n",
       "1               NaT  \n",
       "2        2023-06-01  \n",
       "3               NaT  \n",
       "4               NaT  "
      ]
     },
     "execution_count": 61,
     "metadata": {},
     "output_type": "execute_result"
    }
   ],
   "source": [
    "customers.head()"
   ]
  },
  {
   "cell_type": "code",
   "execution_count": null,
   "metadata": {},
   "outputs": [],
   "source": [
    "# Email: need to be deleted "
   ]
  },
  {
   "cell_type": "code",
   "execution_count": 64,
   "metadata": {},
   "outputs": [],
   "source": [
    "customers['Email']=customers['Email'].str.replace('Email:','')"
   ]
  },
  {
   "cell_type": "code",
   "execution_count": 66,
   "metadata": {},
   "outputs": [
    {
     "data": {
      "text/html": [
       "<div>\n",
       "<style scoped>\n",
       "    .dataframe tbody tr th:only-of-type {\n",
       "        vertical-align: middle;\n",
       "    }\n",
       "\n",
       "    .dataframe tbody tr th {\n",
       "        vertical-align: top;\n",
       "    }\n",
       "\n",
       "    .dataframe thead th {\n",
       "        text-align: right;\n",
       "    }\n",
       "</style>\n",
       "<table border=\"1\" class=\"dataframe\">\n",
       "  <thead>\n",
       "    <tr style=\"text-align: right;\">\n",
       "      <th></th>\n",
       "      <th>Customer ID</th>\n",
       "      <th>Customer Name</th>\n",
       "      <th>Email</th>\n",
       "      <th>Member Since</th>\n",
       "      <th>Subscription Plan</th>\n",
       "      <th>Subscription Rate</th>\n",
       "      <th>Discount?</th>\n",
       "      <th>Cancellation Date</th>\n",
       "    </tr>\n",
       "  </thead>\n",
       "  <tbody>\n",
       "    <tr>\n",
       "      <th>0</th>\n",
       "      <td>5001</td>\n",
       "      <td>Harmony Greene</td>\n",
       "      <td>harmonious.vibes@email.com</td>\n",
       "      <td>2023-03-13</td>\n",
       "      <td>Basic (Ads)</td>\n",
       "      <td>2.99</td>\n",
       "      <td>0</td>\n",
       "      <td>NaT</td>\n",
       "    </tr>\n",
       "    <tr>\n",
       "      <th>1</th>\n",
       "      <td>5002</td>\n",
       "      <td>Aria Keys</td>\n",
       "      <td>melodious.aria@email.edu</td>\n",
       "      <td>2023-03-13</td>\n",
       "      <td>Basic (Ads)</td>\n",
       "      <td>2.99</td>\n",
       "      <td>0</td>\n",
       "      <td>NaT</td>\n",
       "    </tr>\n",
       "  </tbody>\n",
       "</table>\n",
       "</div>"
      ],
      "text/plain": [
       "   Customer ID   Customer Name                        Email Member Since  \\\n",
       "0         5001  Harmony Greene   harmonious.vibes@email.com   2023-03-13   \n",
       "1         5002       Aria Keys     melodious.aria@email.edu   2023-03-13   \n",
       "\n",
       "  Subscription Plan  Subscription Rate  Discount? Cancellation Date  \n",
       "0       Basic (Ads)               2.99          0               NaT  \n",
       "1       Basic (Ads)               2.99          0               NaT  "
      ]
     },
     "execution_count": 66,
     "metadata": {},
     "output_type": "execute_result"
    }
   ],
   "source": [
    "customers.head(2)"
   ]
  },
  {
   "cell_type": "code",
   "execution_count": 68,
   "metadata": {},
   "outputs": [
    {
     "data": {
      "text/html": [
       "<div>\n",
       "<style scoped>\n",
       "    .dataframe tbody tr th:only-of-type {\n",
       "        vertical-align: middle;\n",
       "    }\n",
       "\n",
       "    .dataframe tbody tr th {\n",
       "        vertical-align: top;\n",
       "    }\n",
       "\n",
       "    .dataframe thead th {\n",
       "        text-align: right;\n",
       "    }\n",
       "</style>\n",
       "<table border=\"1\" class=\"dataframe\">\n",
       "  <thead>\n",
       "    <tr style=\"text-align: right;\">\n",
       "      <th></th>\n",
       "      <th>Customer ID</th>\n",
       "      <th>Session ID</th>\n",
       "      <th>Audio Order</th>\n",
       "      <th>Audio ID</th>\n",
       "      <th>Audio Type</th>\n",
       "    </tr>\n",
       "  </thead>\n",
       "  <tbody>\n",
       "    <tr>\n",
       "      <th>0</th>\n",
       "      <td>5001</td>\n",
       "      <td>100520</td>\n",
       "      <td>1</td>\n",
       "      <td>101</td>\n",
       "      <td>Song</td>\n",
       "    </tr>\n",
       "    <tr>\n",
       "      <th>1</th>\n",
       "      <td>5001</td>\n",
       "      <td>100520</td>\n",
       "      <td>2</td>\n",
       "      <td>102</td>\n",
       "      <td>Song</td>\n",
       "    </tr>\n",
       "  </tbody>\n",
       "</table>\n",
       "</div>"
      ],
      "text/plain": [
       "   Customer ID  Session ID  Audio Order  Audio ID Audio Type\n",
       "0         5001      100520            1       101       Song\n",
       "1         5001      100520            2       102       Song"
      ]
     },
     "execution_count": 68,
     "metadata": {},
     "output_type": "execute_result"
    }
   ],
   "source": [
    "listening_history.head(2)  # good "
   ]
  },
  {
   "cell_type": "code",
   "execution_count": 69,
   "metadata": {},
   "outputs": [
    {
     "data": {
      "text/plain": [
       "Audio Type\n",
       "Song       463\n",
       "Podcast     42\n",
       "Name: count, dtype: int64"
      ]
     },
     "execution_count": 69,
     "metadata": {},
     "output_type": "execute_result"
    }
   ],
   "source": [
    "listening_history['Audio Type'].value_counts()"
   ]
  },
  {
   "cell_type": "code",
   "execution_count": 70,
   "metadata": {},
   "outputs": [
    {
     "data": {
      "text/html": [
       "<div>\n",
       "<style scoped>\n",
       "    .dataframe tbody tr th:only-of-type {\n",
       "        vertical-align: middle;\n",
       "    }\n",
       "\n",
       "    .dataframe tbody tr th {\n",
       "        vertical-align: top;\n",
       "    }\n",
       "\n",
       "    .dataframe thead th {\n",
       "        text-align: right;\n",
       "    }\n",
       "</style>\n",
       "<table border=\"1\" class=\"dataframe\">\n",
       "  <thead>\n",
       "    <tr style=\"text-align: right;\">\n",
       "      <th></th>\n",
       "      <th>ID</th>\n",
       "      <th>Name</th>\n",
       "      <th>Genre</th>\n",
       "      <th>Popularity</th>\n",
       "    </tr>\n",
       "  </thead>\n",
       "  <tbody>\n",
       "    <tr>\n",
       "      <th>0</th>\n",
       "      <td>Song-101</td>\n",
       "      <td>Dance All Night</td>\n",
       "      <td>Pop</td>\n",
       "      <td>1</td>\n",
       "    </tr>\n",
       "    <tr>\n",
       "      <th>1</th>\n",
       "      <td>Song-102</td>\n",
       "      <td>Unbreakable Beat</td>\n",
       "      <td>Pop</td>\n",
       "      <td>2</td>\n",
       "    </tr>\n",
       "  </tbody>\n",
       "</table>\n",
       "</div>"
      ],
      "text/plain": [
       "         ID              Name Genre  Popularity\n",
       "0  Song-101   Dance All Night   Pop           1\n",
       "1  Song-102  Unbreakable Beat   Pop           2"
      ]
     },
     "execution_count": 70,
     "metadata": {},
     "output_type": "execute_result"
    }
   ],
   "source": [
    "audio.head(2)"
   ]
  },
  {
   "cell_type": "code",
   "execution_count": 71,
   "metadata": {},
   "outputs": [
    {
     "data": {
      "text/plain": [
       "Genre\n",
       "Pop Music     3\n",
       "Hip Hop       3\n",
       "Comedy        3\n",
       "Pop           2\n",
       "Country       2\n",
       "Jazz          2\n",
       "True Crime    2\n",
       "Name: count, dtype: int64"
      ]
     },
     "execution_count": 71,
     "metadata": {},
     "output_type": "execute_result"
    }
   ],
   "source": [
    "audio.Genre.value_counts()"
   ]
  },
  {
   "cell_type": "code",
   "execution_count": null,
   "metadata": {},
   "outputs": [],
   "source": [
    "# Pop and Pop music are the same type"
   ]
  },
  {
   "cell_type": "code",
   "execution_count": 73,
   "metadata": {},
   "outputs": [],
   "source": [
    "audio['Genre']=np.where(audio.Genre=='Pop Music','Pop',audio.Genre)"
   ]
  },
  {
   "cell_type": "code",
   "execution_count": 74,
   "metadata": {},
   "outputs": [
    {
     "data": {
      "text/plain": [
       "Genre\n",
       "Pop           5\n",
       "Hip Hop       3\n",
       "Comedy        3\n",
       "Country       2\n",
       "Jazz          2\n",
       "True Crime    2\n",
       "Name: count, dtype: int64"
      ]
     },
     "execution_count": 74,
     "metadata": {},
     "output_type": "execute_result"
    }
   ],
   "source": [
    "audio.Genre.value_counts()"
   ]
  },
  {
   "cell_type": "code",
   "execution_count": 76,
   "metadata": {},
   "outputs": [
    {
     "data": {
      "text/html": [
       "<div>\n",
       "<style scoped>\n",
       "    .dataframe tbody tr th:only-of-type {\n",
       "        vertical-align: middle;\n",
       "    }\n",
       "\n",
       "    .dataframe tbody tr th {\n",
       "        vertical-align: top;\n",
       "    }\n",
       "\n",
       "    .dataframe thead th {\n",
       "        text-align: right;\n",
       "    }\n",
       "</style>\n",
       "<table border=\"1\" class=\"dataframe\">\n",
       "  <thead>\n",
       "    <tr style=\"text-align: right;\">\n",
       "      <th></th>\n",
       "      <th>Session ID</th>\n",
       "      <th>Session Log In Time</th>\n",
       "    </tr>\n",
       "  </thead>\n",
       "  <tbody>\n",
       "    <tr>\n",
       "      <th>0</th>\n",
       "      <td>100520</td>\n",
       "      <td>2023-03-13 18:29:00</td>\n",
       "    </tr>\n",
       "    <tr>\n",
       "      <th>1</th>\n",
       "      <td>100522</td>\n",
       "      <td>2023-03-13 22:15:00</td>\n",
       "    </tr>\n",
       "    <tr>\n",
       "      <th>2</th>\n",
       "      <td>100525</td>\n",
       "      <td>2023-03-14 10:01:00</td>\n",
       "    </tr>\n",
       "  </tbody>\n",
       "</table>\n",
       "</div>"
      ],
      "text/plain": [
       "   Session ID Session Log In Time\n",
       "0      100520 2023-03-13 18:29:00\n",
       "1      100522 2023-03-13 22:15:00\n",
       "2      100525 2023-03-14 10:01:00"
      ]
     },
     "execution_count": 76,
     "metadata": {},
     "output_type": "execute_result"
    }
   ],
   "source": [
    "sessions.head(3)  # look good "
   ]
  },
  {
   "cell_type": "code",
   "execution_count": null,
   "metadata": {},
   "outputs": [],
   "source": []
  },
  {
   "cell_type": "markdown",
   "metadata": {},
   "source": [
    "##  project idea:"
   ]
  },
  {
   "cell_type": "markdown",
   "metadata": {},
   "source": [
    "## fators related to cancellation"
   ]
  },
  {
   "cell_type": "markdown",
   "metadata": {},
   "source": [
    "### 1. number of sessions"
   ]
  },
  {
   "cell_type": "markdown",
   "metadata": {},
   "source": [
    "### 2. pop is the most poplar songs ,the percentage of pop verse total audio "
   ]
  },
  {
   "cell_type": "markdown",
   "metadata": {},
   "source": [
    "### 3.the perscent of podcat verses total audio "
   ]
  },
  {
   "cell_type": "markdown",
   "metadata": {},
   "source": [
    "### 4. ratio of cancellation with discount"
   ]
  },
  {
   "cell_type": "markdown",
   "metadata": {},
   "source": [
    "### 5. ratio of cancellation without discount "
   ]
  },
  {
   "cell_type": "markdown",
   "metadata": {},
   "source": [
    "### c. Create New Columns"
   ]
  },
  {
   "cell_type": "markdown",
   "metadata": {},
   "source": [
    "Create two new columns that will be useful for EDA and modeling:\n",
    "* Cancelled: whether a customer cancelled or not\n",
    "* Email: Remove the \"Email:\" from the email addresses"
   ]
  },
  {
   "cell_type": "code",
   "execution_count": null,
   "metadata": {},
   "outputs": [],
   "source": [
    " in order to obeser ratio of cancellation versus discount, create a column called cancelled in customer datasframe and it is an integer type\n"
   ]
  },
  {
   "cell_type": "code",
   "execution_count": 79,
   "metadata": {},
   "outputs": [],
   "source": [
    "customers['cancelled']=np.where(customers['Cancellation Date'].notna(), 1,0)"
   ]
  },
  {
   "cell_type": "code",
   "execution_count": 80,
   "metadata": {},
   "outputs": [
    {
     "data": {
      "text/html": [
       "<div>\n",
       "<style scoped>\n",
       "    .dataframe tbody tr th:only-of-type {\n",
       "        vertical-align: middle;\n",
       "    }\n",
       "\n",
       "    .dataframe tbody tr th {\n",
       "        vertical-align: top;\n",
       "    }\n",
       "\n",
       "    .dataframe thead th {\n",
       "        text-align: right;\n",
       "    }\n",
       "</style>\n",
       "<table border=\"1\" class=\"dataframe\">\n",
       "  <thead>\n",
       "    <tr style=\"text-align: right;\">\n",
       "      <th></th>\n",
       "      <th>Customer ID</th>\n",
       "      <th>Customer Name</th>\n",
       "      <th>Email</th>\n",
       "      <th>Member Since</th>\n",
       "      <th>Subscription Plan</th>\n",
       "      <th>Subscription Rate</th>\n",
       "      <th>Discount?</th>\n",
       "      <th>Cancellation Date</th>\n",
       "      <th>cancelled</th>\n",
       "    </tr>\n",
       "  </thead>\n",
       "  <tbody>\n",
       "    <tr>\n",
       "      <th>0</th>\n",
       "      <td>5001</td>\n",
       "      <td>Harmony Greene</td>\n",
       "      <td>harmonious.vibes@email.com</td>\n",
       "      <td>2023-03-13</td>\n",
       "      <td>Basic (Ads)</td>\n",
       "      <td>2.99</td>\n",
       "      <td>0</td>\n",
       "      <td>NaT</td>\n",
       "      <td>0</td>\n",
       "    </tr>\n",
       "    <tr>\n",
       "      <th>1</th>\n",
       "      <td>5002</td>\n",
       "      <td>Aria Keys</td>\n",
       "      <td>melodious.aria@email.edu</td>\n",
       "      <td>2023-03-13</td>\n",
       "      <td>Basic (Ads)</td>\n",
       "      <td>2.99</td>\n",
       "      <td>0</td>\n",
       "      <td>NaT</td>\n",
       "      <td>0</td>\n",
       "    </tr>\n",
       "  </tbody>\n",
       "</table>\n",
       "</div>"
      ],
      "text/plain": [
       "   Customer ID   Customer Name                        Email Member Since  \\\n",
       "0         5001  Harmony Greene   harmonious.vibes@email.com   2023-03-13   \n",
       "1         5002       Aria Keys     melodious.aria@email.edu   2023-03-13   \n",
       "\n",
       "  Subscription Plan  Subscription Rate  Discount? Cancellation Date  cancelled  \n",
       "0       Basic (Ads)               2.99          0               NaT          0  \n",
       "1       Basic (Ads)               2.99          0               NaT          0  "
      ]
     },
     "execution_count": 80,
     "metadata": {},
     "output_type": "execute_result"
    }
   ],
   "source": [
    "customers.head(2)"
   ]
  },
  {
   "cell_type": "markdown",
   "metadata": {},
   "source": [
    "## 4. EDA"
   ]
  },
  {
   "cell_type": "markdown",
   "metadata": {},
   "source": [
    "Try to better understand the customers who cancelled:\n",
    "* How long were they members before they cancelled?\n",
    "* What percentage of customers who cancelled had a discount vs customers who didn't cancel?"
   ]
  },
  {
   "cell_type": "code",
   "execution_count": 87,
   "metadata": {},
   "outputs": [],
   "source": [
    "discount_yes=customers[customers['Discount?']==1]"
   ]
  },
  {
   "cell_type": "code",
   "execution_count": 89,
   "metadata": {},
   "outputs": [
    {
     "data": {
      "text/plain": [
       "(7, 9)"
      ]
     },
     "execution_count": 89,
     "metadata": {},
     "output_type": "execute_result"
    }
   ],
   "source": [
    "discount_yes.shape"
   ]
  },
  {
   "cell_type": "code",
   "execution_count": 92,
   "metadata": {},
   "outputs": [
    {
     "data": {
      "text/plain": [
       "(6, 9)"
      ]
     },
     "execution_count": 92,
     "metadata": {},
     "output_type": "execute_result"
    }
   ],
   "source": [
    "discount_yes[discount_yes['cancelled']==1].shape"
   ]
  },
  {
   "cell_type": "code",
   "execution_count": 93,
   "metadata": {},
   "outputs": [
    {
     "data": {
      "text/plain": [
       "0.8571428571428571"
      ]
     },
     "execution_count": 93,
     "metadata": {},
     "output_type": "execute_result"
    }
   ],
   "source": [
    "6/7"
   ]
  },
  {
   "cell_type": "code",
   "execution_count": 95,
   "metadata": {},
   "outputs": [],
   "source": [
    "discount_no=customers[customers['Discount?']==0]"
   ]
  },
  {
   "cell_type": "code",
   "execution_count": 96,
   "metadata": {},
   "outputs": [
    {
     "data": {
      "text/plain": [
       "(23, 9)"
      ]
     },
     "execution_count": 96,
     "metadata": {},
     "output_type": "execute_result"
    }
   ],
   "source": [
    "discount_no.shape"
   ]
  },
  {
   "cell_type": "code",
   "execution_count": 97,
   "metadata": {},
   "outputs": [
    {
     "data": {
      "text/plain": [
       "(7, 9)"
      ]
     },
     "execution_count": 97,
     "metadata": {},
     "output_type": "execute_result"
    }
   ],
   "source": [
    "discount_no[discount_no['cancelled']==1].shape"
   ]
  },
  {
   "cell_type": "code",
   "execution_count": 99,
   "metadata": {},
   "outputs": [
    {
     "data": {
      "text/plain": [
       "0.30434782608695654"
      ]
     },
     "execution_count": 99,
     "metadata": {},
     "output_type": "execute_result"
    }
   ],
   "source": [
    "7/23"
   ]
  },
  {
   "cell_type": "code",
   "execution_count": null,
   "metadata": {},
   "outputs": [],
   "source": [
    "# in order to visulize these data, we can create a dataframe"
   ]
  },
  {
   "cell_type": "code",
   "execution_count": 106,
   "metadata": {},
   "outputs": [],
   "source": [
    "cancellation_discount=(pd.DataFrame([['cancelled with discount',0.8571428571428571],\n",
    "             ['cancelled without a discount',0.30434782608695654]],\n",
    "              columns=['customer type','rate of calcellation']))"
   ]
  },
  {
   "cell_type": "code",
   "execution_count": 107,
   "metadata": {},
   "outputs": [
    {
     "data": {
      "text/html": [
       "<div>\n",
       "<style scoped>\n",
       "    .dataframe tbody tr th:only-of-type {\n",
       "        vertical-align: middle;\n",
       "    }\n",
       "\n",
       "    .dataframe tbody tr th {\n",
       "        vertical-align: top;\n",
       "    }\n",
       "\n",
       "    .dataframe thead th {\n",
       "        text-align: right;\n",
       "    }\n",
       "</style>\n",
       "<table border=\"1\" class=\"dataframe\">\n",
       "  <thead>\n",
       "    <tr style=\"text-align: right;\">\n",
       "      <th></th>\n",
       "      <th>customer type</th>\n",
       "      <th>rate of calcellation</th>\n",
       "    </tr>\n",
       "  </thead>\n",
       "  <tbody>\n",
       "    <tr>\n",
       "      <th>0</th>\n",
       "      <td>cancelled with discount</td>\n",
       "      <td>0.857143</td>\n",
       "    </tr>\n",
       "    <tr>\n",
       "      <th>1</th>\n",
       "      <td>cancelled without a discount</td>\n",
       "      <td>0.304348</td>\n",
       "    </tr>\n",
       "  </tbody>\n",
       "</table>\n",
       "</div>"
      ],
      "text/plain": [
       "                  customer type  rate of calcellation\n",
       "0       cancelled with discount              0.857143\n",
       "1  cancelled without a discount              0.304348"
      ]
     },
     "execution_count": 107,
     "metadata": {},
     "output_type": "execute_result"
    }
   ],
   "source": [
    "cancellation_discount"
   ]
  },
  {
   "cell_type": "code",
   "execution_count": null,
   "metadata": {},
   "outputs": [],
   "source": [
    "# using horizontal bar to visulize the data"
   ]
  },
  {
   "cell_type": "code",
   "execution_count": 108,
   "metadata": {},
   "outputs": [
    {
     "data": {
      "text/plain": [
       "<Axes: >"
      ]
     },
     "execution_count": 108,
     "metadata": {},
     "output_type": "execute_result"
    },
    {
     "data": {
      "image/png": "[encoded data removed]",
      "text/plain": [
       "<Figure size 640x480 with 1 Axes>"
      ]
     },
     "metadata": {},
     "output_type": "display_data"
    }
   ],
   "source": [
    "cancellation_discount.plot.barh()"
   ]
  },
  {
   "cell_type": "markdown",
   "metadata": {},
   "source": [
    "Better understand the customers' listening histories:\n",
    "* Join together the listening history and audio tables\n",
    "* How many listening sessions did each customer have in the past 3 months?\n",
    "* What were the most popular genres that customers listened to?"
   ]
  },
  {
   "cell_type": "code",
   "execution_count": 109,
   "metadata": {},
   "outputs": [
    {
     "data": {
      "text/html": [
       "<div>\n",
       "<style scoped>\n",
       "    .dataframe tbody tr th:only-of-type {\n",
       "        vertical-align: middle;\n",
       "    }\n",
       "\n",
       "    .dataframe tbody tr th {\n",
       "        vertical-align: top;\n",
       "    }\n",
       "\n",
       "    .dataframe thead th {\n",
       "        text-align: right;\n",
       "    }\n",
       "</style>\n",
       "<table border=\"1\" class=\"dataframe\">\n",
       "  <thead>\n",
       "    <tr style=\"text-align: right;\">\n",
       "      <th></th>\n",
       "      <th>Customer ID</th>\n",
       "      <th>Customer Name</th>\n",
       "      <th>Email</th>\n",
       "      <th>Member Since</th>\n",
       "      <th>Subscription Plan</th>\n",
       "      <th>Subscription Rate</th>\n",
       "      <th>Discount?</th>\n",
       "      <th>Cancellation Date</th>\n",
       "      <th>cancelled</th>\n",
       "    </tr>\n",
       "  </thead>\n",
       "  <tbody>\n",
       "    <tr>\n",
       "      <th>0</th>\n",
       "      <td>5001</td>\n",
       "      <td>Harmony Greene</td>\n",
       "      <td>harmonious.vibes@email.com</td>\n",
       "      <td>2023-03-13</td>\n",
       "      <td>Basic (Ads)</td>\n",
       "      <td>2.99</td>\n",
       "      <td>0</td>\n",
       "      <td>NaT</td>\n",
       "      <td>0</td>\n",
       "    </tr>\n",
       "    <tr>\n",
       "      <th>1</th>\n",
       "      <td>5002</td>\n",
       "      <td>Aria Keys</td>\n",
       "      <td>melodious.aria@email.edu</td>\n",
       "      <td>2023-03-13</td>\n",
       "      <td>Basic (Ads)</td>\n",
       "      <td>2.99</td>\n",
       "      <td>0</td>\n",
       "      <td>NaT</td>\n",
       "      <td>0</td>\n",
       "    </tr>\n",
       "  </tbody>\n",
       "</table>\n",
       "</div>"
      ],
      "text/plain": [
       "   Customer ID   Customer Name                        Email Member Since  \\\n",
       "0         5001  Harmony Greene   harmonious.vibes@email.com   2023-03-13   \n",
       "1         5002       Aria Keys     melodious.aria@email.edu   2023-03-13   \n",
       "\n",
       "  Subscription Plan  Subscription Rate  Discount? Cancellation Date  cancelled  \n",
       "0       Basic (Ads)               2.99          0               NaT          0  \n",
       "1       Basic (Ads)               2.99          0               NaT          0  "
      ]
     },
     "execution_count": 109,
     "metadata": {},
     "output_type": "execute_result"
    }
   ],
   "source": [
    "customers.head(2)"
   ]
  },
  {
   "cell_type": "code",
   "execution_count": null,
   "metadata": {},
   "outputs": [],
   "source": [
    "# customer ID  but no audio type we need to find audio type,Genre relate to calcellation so we need audio type and Genre"
   ]
  },
  {
   "cell_type": "code",
   "execution_count": 110,
   "metadata": {},
   "outputs": [
    {
     "data": {
      "text/html": [
       "<div>\n",
       "<style scoped>\n",
       "    .dataframe tbody tr th:only-of-type {\n",
       "        vertical-align: middle;\n",
       "    }\n",
       "\n",
       "    .dataframe tbody tr th {\n",
       "        vertical-align: top;\n",
       "    }\n",
       "\n",
       "    .dataframe thead th {\n",
       "        text-align: right;\n",
       "    }\n",
       "</style>\n",
       "<table border=\"1\" class=\"dataframe\">\n",
       "  <thead>\n",
       "    <tr style=\"text-align: right;\">\n",
       "      <th></th>\n",
       "      <th>Customer ID</th>\n",
       "      <th>Session ID</th>\n",
       "      <th>Audio Order</th>\n",
       "      <th>Audio ID</th>\n",
       "      <th>Audio Type</th>\n",
       "    </tr>\n",
       "  </thead>\n",
       "  <tbody>\n",
       "    <tr>\n",
       "      <th>0</th>\n",
       "      <td>5001</td>\n",
       "      <td>100520</td>\n",
       "      <td>1</td>\n",
       "      <td>101</td>\n",
       "      <td>Song</td>\n",
       "    </tr>\n",
       "    <tr>\n",
       "      <th>1</th>\n",
       "      <td>5001</td>\n",
       "      <td>100520</td>\n",
       "      <td>2</td>\n",
       "      <td>102</td>\n",
       "      <td>Song</td>\n",
       "    </tr>\n",
       "  </tbody>\n",
       "</table>\n",
       "</div>"
      ],
      "text/plain": [
       "   Customer ID  Session ID  Audio Order  Audio ID Audio Type\n",
       "0         5001      100520            1       101       Song\n",
       "1         5001      100520            2       102       Song"
      ]
     },
     "execution_count": 110,
     "metadata": {},
     "output_type": "execute_result"
    }
   ],
   "source": [
    "listening_history.head(2)"
   ]
  },
  {
   "cell_type": "code",
   "execution_count": null,
   "metadata": {},
   "outputs": [],
   "source": [
    "# it has audio type but no genre "
   ]
  },
  {
   "cell_type": "code",
   "execution_count": 112,
   "metadata": {},
   "outputs": [
    {
     "data": {
      "text/html": [
       "<div>\n",
       "<style scoped>\n",
       "    .dataframe tbody tr th:only-of-type {\n",
       "        vertical-align: middle;\n",
       "    }\n",
       "\n",
       "    .dataframe tbody tr th {\n",
       "        vertical-align: top;\n",
       "    }\n",
       "\n",
       "    .dataframe thead th {\n",
       "        text-align: right;\n",
       "    }\n",
       "</style>\n",
       "<table border=\"1\" class=\"dataframe\">\n",
       "  <thead>\n",
       "    <tr style=\"text-align: right;\">\n",
       "      <th></th>\n",
       "      <th>ID</th>\n",
       "      <th>Name</th>\n",
       "      <th>Genre</th>\n",
       "      <th>Popularity</th>\n",
       "    </tr>\n",
       "  </thead>\n",
       "  <tbody>\n",
       "    <tr>\n",
       "      <th>0</th>\n",
       "      <td>Song-101</td>\n",
       "      <td>Dance All Night</td>\n",
       "      <td>Pop</td>\n",
       "      <td>1</td>\n",
       "    </tr>\n",
       "    <tr>\n",
       "      <th>1</th>\n",
       "      <td>Song-102</td>\n",
       "      <td>Unbreakable Beat</td>\n",
       "      <td>Pop</td>\n",
       "      <td>2</td>\n",
       "    </tr>\n",
       "  </tbody>\n",
       "</table>\n",
       "</div>"
      ],
      "text/plain": [
       "         ID              Name Genre  Popularity\n",
       "0  Song-101   Dance All Night   Pop           1\n",
       "1  Song-102  Unbreakable Beat   Pop           2"
      ]
     },
     "execution_count": 112,
     "metadata": {},
     "output_type": "execute_result"
    }
   ],
   "source": [
    "audio.head(2)"
   ]
  },
  {
   "cell_type": "code",
   "execution_count": null,
   "metadata": {},
   "outputs": [],
   "source": [
    "# it has Genre but no customer ID and audio type, audion type is hidden in ID "
   ]
  },
  {
   "cell_type": "code",
   "execution_count": 113,
   "metadata": {},
   "outputs": [
    {
     "data": {
      "text/html": [
       "<div>\n",
       "<style scoped>\n",
       "    .dataframe tbody tr th:only-of-type {\n",
       "        vertical-align: middle;\n",
       "    }\n",
       "\n",
       "    .dataframe tbody tr th {\n",
       "        vertical-align: top;\n",
       "    }\n",
       "\n",
       "    .dataframe thead th {\n",
       "        text-align: right;\n",
       "    }\n",
       "</style>\n",
       "<table border=\"1\" class=\"dataframe\">\n",
       "  <thead>\n",
       "    <tr style=\"text-align: right;\">\n",
       "      <th></th>\n",
       "      <th>Session ID</th>\n",
       "      <th>Session Log In Time</th>\n",
       "    </tr>\n",
       "  </thead>\n",
       "  <tbody>\n",
       "    <tr>\n",
       "      <th>0</th>\n",
       "      <td>100520</td>\n",
       "      <td>2023-03-13 18:29:00</td>\n",
       "    </tr>\n",
       "    <tr>\n",
       "      <th>1</th>\n",
       "      <td>100522</td>\n",
       "      <td>2023-03-13 22:15:00</td>\n",
       "    </tr>\n",
       "  </tbody>\n",
       "</table>\n",
       "</div>"
      ],
      "text/plain": [
       "   Session ID Session Log In Time\n",
       "0      100520 2023-03-13 18:29:00\n",
       "1      100522 2023-03-13 22:15:00"
      ]
     },
     "execution_count": 113,
     "metadata": {},
     "output_type": "execute_result"
    }
   ],
   "source": [
    "sessions.head(2)"
   ]
  },
  {
   "cell_type": "code",
   "execution_count": null,
   "metadata": {},
   "outputs": [],
   "source": [
    "# it has session ID which connectedc to listening history "
   ]
  },
  {
   "cell_type": "code",
   "execution_count": null,
   "metadata": {},
   "outputs": [],
   "source": [
    "# we need join listening history and audio to get both audio type and genre. First, split audio column ID into audio ID and audio type "
   ]
  },
  {
   "cell_type": "code",
   "execution_count": 129,
   "metadata": {},
   "outputs": [],
   "source": [
    "audio_splitID=pd.DataFrame(audio.ID.str.split('-').to_list()).rename(columns={0:'Type',1:'Audio ID'})"
   ]
  },
  {
   "cell_type": "code",
   "execution_count": 130,
   "metadata": {},
   "outputs": [
    {
     "data": {
      "text/html": [
       "<div>\n",
       "<style scoped>\n",
       "    .dataframe tbody tr th:only-of-type {\n",
       "        vertical-align: middle;\n",
       "    }\n",
       "\n",
       "    .dataframe tbody tr th {\n",
       "        vertical-align: top;\n",
       "    }\n",
       "\n",
       "    .dataframe thead th {\n",
       "        text-align: right;\n",
       "    }\n",
       "</style>\n",
       "<table border=\"1\" class=\"dataframe\">\n",
       "  <thead>\n",
       "    <tr style=\"text-align: right;\">\n",
       "      <th></th>\n",
       "      <th>Type</th>\n",
       "      <th>Audio ID</th>\n",
       "    </tr>\n",
       "  </thead>\n",
       "  <tbody>\n",
       "    <tr>\n",
       "      <th>0</th>\n",
       "      <td>Song</td>\n",
       "      <td>101</td>\n",
       "    </tr>\n",
       "    <tr>\n",
       "      <th>1</th>\n",
       "      <td>Song</td>\n",
       "      <td>102</td>\n",
       "    </tr>\n",
       "    <tr>\n",
       "      <th>2</th>\n",
       "      <td>Song</td>\n",
       "      <td>103</td>\n",
       "    </tr>\n",
       "  </tbody>\n",
       "</table>\n",
       "</div>"
      ],
      "text/plain": [
       "   Type Audio ID\n",
       "0  Song      101\n",
       "1  Song      102\n",
       "2  Song      103"
      ]
     },
     "execution_count": 130,
     "metadata": {},
     "output_type": "execute_result"
    }
   ],
   "source": [
    "audio_splitID.head(3)"
   ]
  },
  {
   "cell_type": "code",
   "execution_count": null,
   "metadata": {},
   "outputs": [],
   "source": [
    "# join it to audio"
   ]
  },
  {
   "cell_type": "code",
   "execution_count": 133,
   "metadata": {},
   "outputs": [],
   "source": [
    "audio=pd.concat([audio_splitID,audio],axis=1).drop(columns='ID')"
   ]
  },
  {
   "cell_type": "code",
   "execution_count": 134,
   "metadata": {},
   "outputs": [
    {
     "data": {
      "text/html": [
       "<div>\n",
       "<style scoped>\n",
       "    .dataframe tbody tr th:only-of-type {\n",
       "        vertical-align: middle;\n",
       "    }\n",
       "\n",
       "    .dataframe tbody tr th {\n",
       "        vertical-align: top;\n",
       "    }\n",
       "\n",
       "    .dataframe thead th {\n",
       "        text-align: right;\n",
       "    }\n",
       "</style>\n",
       "<table border=\"1\" class=\"dataframe\">\n",
       "  <thead>\n",
       "    <tr style=\"text-align: right;\">\n",
       "      <th></th>\n",
       "      <th>Type</th>\n",
       "      <th>Audio ID</th>\n",
       "      <th>Name</th>\n",
       "      <th>Genre</th>\n",
       "      <th>Popularity</th>\n",
       "    </tr>\n",
       "  </thead>\n",
       "  <tbody>\n",
       "    <tr>\n",
       "      <th>0</th>\n",
       "      <td>Song</td>\n",
       "      <td>101</td>\n",
       "      <td>Dance All Night</td>\n",
       "      <td>Pop</td>\n",
       "      <td>1</td>\n",
       "    </tr>\n",
       "    <tr>\n",
       "      <th>1</th>\n",
       "      <td>Song</td>\n",
       "      <td>102</td>\n",
       "      <td>Unbreakable Beat</td>\n",
       "      <td>Pop</td>\n",
       "      <td>2</td>\n",
       "    </tr>\n",
       "    <tr>\n",
       "      <th>2</th>\n",
       "      <td>Song</td>\n",
       "      <td>103</td>\n",
       "      <td>Sunset Boulevard</td>\n",
       "      <td>Pop</td>\n",
       "      <td>5</td>\n",
       "    </tr>\n",
       "    <tr>\n",
       "      <th>3</th>\n",
       "      <td>Song</td>\n",
       "      <td>104</td>\n",
       "      <td>Glowing Hearts</td>\n",
       "      <td>Pop</td>\n",
       "      <td>10</td>\n",
       "    </tr>\n",
       "    <tr>\n",
       "      <th>4</th>\n",
       "      <td>Song</td>\n",
       "      <td>105</td>\n",
       "      <td>Pop Rocks</td>\n",
       "      <td>Pop</td>\n",
       "      <td>52</td>\n",
       "    </tr>\n",
       "  </tbody>\n",
       "</table>\n",
       "</div>"
      ],
      "text/plain": [
       "   Type Audio ID              Name Genre  Popularity\n",
       "0  Song      101   Dance All Night   Pop           1\n",
       "1  Song      102  Unbreakable Beat   Pop           2\n",
       "2  Song      103  Sunset Boulevard   Pop           5\n",
       "3  Song      104    Glowing Hearts   Pop          10\n",
       "4  Song      105         Pop Rocks   Pop          52"
      ]
     },
     "execution_count": 134,
     "metadata": {},
     "output_type": "execute_result"
    }
   ],
   "source": [
    "audio.head()"
   ]
  },
  {
   "cell_type": "code",
   "execution_count": 135,
   "metadata": {},
   "outputs": [
    {
     "data": {
      "text/plain": [
       "Type          object\n",
       "Audio ID      object\n",
       "Name          object\n",
       "Genre         object\n",
       "Popularity     int64\n",
       "dtype: object"
      ]
     },
     "execution_count": 135,
     "metadata": {},
     "output_type": "execute_result"
    }
   ],
   "source": [
    "audio.dtypes"
   ]
  },
  {
   "cell_type": "code",
   "execution_count": null,
   "metadata": {},
   "outputs": [],
   "source": [
    "# in order to join with listening history, audio ID should be int"
   ]
  },
  {
   "cell_type": "code",
   "execution_count": 137,
   "metadata": {},
   "outputs": [],
   "source": [
    "audio['Audio ID']=audio['Audio ID'].astype(int)"
   ]
  },
  {
   "cell_type": "code",
   "execution_count": 139,
   "metadata": {},
   "outputs": [
    {
     "data": {
      "text/plain": [
       "Type          object\n",
       "Audio ID       int32\n",
       "Name          object\n",
       "Genre         object\n",
       "Popularity     int64\n",
       "dtype: object"
      ]
     },
     "execution_count": 139,
     "metadata": {},
     "output_type": "execute_result"
    }
   ],
   "source": [
    "audio.dtypes"
   ]
  },
  {
   "cell_type": "code",
   "execution_count": null,
   "metadata": {},
   "outputs": [],
   "source": [
    "# join listening history with audio using left join "
   ]
  },
  {
   "cell_type": "code",
   "execution_count": 142,
   "metadata": {},
   "outputs": [],
   "source": [
    "df=listening_history.merge(audio, how='left',on='Audio ID')"
   ]
  },
  {
   "cell_type": "code",
   "execution_count": 143,
   "metadata": {},
   "outputs": [
    {
     "data": {
      "text/html": [
       "<div>\n",
       "<style scoped>\n",
       "    .dataframe tbody tr th:only-of-type {\n",
       "        vertical-align: middle;\n",
       "    }\n",
       "\n",
       "    .dataframe tbody tr th {\n",
       "        vertical-align: top;\n",
       "    }\n",
       "\n",
       "    .dataframe thead th {\n",
       "        text-align: right;\n",
       "    }\n",
       "</style>\n",
       "<table border=\"1\" class=\"dataframe\">\n",
       "  <thead>\n",
       "    <tr style=\"text-align: right;\">\n",
       "      <th></th>\n",
       "      <th>Customer ID</th>\n",
       "      <th>Session ID</th>\n",
       "      <th>Audio Order</th>\n",
       "      <th>Audio ID</th>\n",
       "      <th>Audio Type</th>\n",
       "      <th>Type</th>\n",
       "      <th>Name</th>\n",
       "      <th>Genre</th>\n",
       "      <th>Popularity</th>\n",
       "    </tr>\n",
       "  </thead>\n",
       "  <tbody>\n",
       "    <tr>\n",
       "      <th>0</th>\n",
       "      <td>5001</td>\n",
       "      <td>100520</td>\n",
       "      <td>1</td>\n",
       "      <td>101</td>\n",
       "      <td>Song</td>\n",
       "      <td>Song</td>\n",
       "      <td>Dance All Night</td>\n",
       "      <td>Pop</td>\n",
       "      <td>1</td>\n",
       "    </tr>\n",
       "    <tr>\n",
       "      <th>1</th>\n",
       "      <td>5001</td>\n",
       "      <td>100520</td>\n",
       "      <td>2</td>\n",
       "      <td>102</td>\n",
       "      <td>Song</td>\n",
       "      <td>Song</td>\n",
       "      <td>Unbreakable Beat</td>\n",
       "      <td>Pop</td>\n",
       "      <td>2</td>\n",
       "    </tr>\n",
       "    <tr>\n",
       "      <th>2</th>\n",
       "      <td>5001</td>\n",
       "      <td>100520</td>\n",
       "      <td>3</td>\n",
       "      <td>103</td>\n",
       "      <td>Song</td>\n",
       "      <td>Song</td>\n",
       "      <td>Sunset Boulevard</td>\n",
       "      <td>Pop</td>\n",
       "      <td>5</td>\n",
       "    </tr>\n",
       "  </tbody>\n",
       "</table>\n",
       "</div>"
      ],
      "text/plain": [
       "   Customer ID  Session ID  Audio Order  Audio ID Audio Type  Type  \\\n",
       "0         5001      100520            1       101       Song  Song   \n",
       "1         5001      100520            2       102       Song  Song   \n",
       "2         5001      100520            3       103       Song  Song   \n",
       "\n",
       "               Name Genre  Popularity  \n",
       "0   Dance All Night   Pop           1  \n",
       "1  Unbreakable Beat   Pop           2  \n",
       "2  Sunset Boulevard   Pop           5  "
      ]
     },
     "execution_count": 143,
     "metadata": {},
     "output_type": "execute_result"
    }
   ],
   "source": [
    "df.head(3)"
   ]
  },
  {
   "cell_type": "code",
   "execution_count": null,
   "metadata": {},
   "outputs": [],
   "source": [
    "# most popular genre"
   ]
  },
  {
   "cell_type": "code",
   "execution_count": 144,
   "metadata": {},
   "outputs": [
    {
     "data": {
      "text/plain": [
       "Genre\n",
       "Pop           267\n",
       "Hip Hop        88\n",
       "Country        68\n",
       "Jazz           48\n",
       "Comedy         19\n",
       "True Crime     15\n",
       "Name: count, dtype: int64"
      ]
     },
     "execution_count": 144,
     "metadata": {},
     "output_type": "execute_result"
    }
   ],
   "source": [
    "df['Genre'].value_counts()"
   ]
  },
  {
   "cell_type": "code",
   "execution_count": null,
   "metadata": {},
   "outputs": [],
   "source": [
    "# Pop is the most popular Genre and it can represt song type "
   ]
  },
  {
   "cell_type": "code",
   "execution_count": null,
   "metadata": {},
   "outputs": [],
   "source": [
    "# number of unique sessions for each customer "
   ]
  },
  {
   "cell_type": "code",
   "execution_count": 158,
   "metadata": {},
   "outputs": [
    {
     "data": {
      "text/plain": [
       "Customer ID\n",
       "5001    8\n",
       "5002    4\n",
       "5004    1\n",
       "5267    7\n",
       "5338    4\n",
       "5404    1\n",
       "5581    3\n",
       "5759    2\n",
       "5761    3\n",
       "5763    6\n",
       "5826    3\n",
       "5827    1\n",
       "6029    2\n",
       "6092    3\n",
       "6163    3\n",
       "6229    2\n",
       "6406    3\n",
       "6584    2\n",
       "6586    2\n",
       "6588    3\n",
       "6821    2\n",
       "6822    3\n",
       "6824    4\n",
       "7087    3\n",
       "7158    3\n",
       "7224    4\n",
       "7401    3\n",
       "7579    2\n",
       "7581    2\n",
       "7583    1\n",
       "Name: Session ID, dtype: int64"
      ]
     },
     "execution_count": 158,
     "metadata": {},
     "output_type": "execute_result"
    }
   ],
   "source": [
    "df.groupby('Customer ID')['Session ID'].nunique()"
   ]
  },
  {
   "cell_type": "code",
   "execution_count": null,
   "metadata": {},
   "outputs": [],
   "source": [
    "# visulize the number of customers for each number of sessions by a histogram "
   ]
  },
  {
   "cell_type": "code",
   "execution_count": 159,
   "metadata": {},
   "outputs": [
    {
     "data": {
      "text/plain": [
       "<Axes: ylabel='Frequency'>"
      ]
     },
     "execution_count": 159,
     "metadata": {},
     "output_type": "execute_result"
    },
    {
     "data": {
      "image/png": "[encoded data removed]",
      "text/plain": [
       "<Figure size 640x480 with 1 Axes>"
      ]
     },
     "metadata": {},
     "output_type": "display_data"
    }
   ],
   "source": [
    "df.groupby('Customer ID')['Session ID'].nunique().plot.hist()"
   ]
  },
  {
   "cell_type": "markdown",
   "metadata": {},
   "source": [
    "## 5. Prep for Modeling"
   ]
  },
  {
   "cell_type": "markdown",
   "metadata": {},
   "source": [
    "Create a DataFrame that is ready for modeling with each row representing a customer and the following numeric, non-null columns:\n",
    "* Customer ID\n",
    "* Whether a customer cancelled or not\n",
    "* Whether a customer received a discount or not\n",
    "* The number of listening sessions\n",
    "* Percent of listening history consisting of Pop\n",
    "* Percent of listening history consisting of Podcasts"
   ]
  },
  {
   "cell_type": "code",
   "execution_count": null,
   "metadata": {},
   "outputs": [],
   "source": [
    "#the first 3 in customer dataframe and we can get it directly"
   ]
  },
  {
   "cell_type": "code",
   "execution_count": 160,
   "metadata": {},
   "outputs": [
    {
     "data": {
      "text/html": [
       "<div>\n",
       "<style scoped>\n",
       "    .dataframe tbody tr th:only-of-type {\n",
       "        vertical-align: middle;\n",
       "    }\n",
       "\n",
       "    .dataframe tbody tr th {\n",
       "        vertical-align: top;\n",
       "    }\n",
       "\n",
       "    .dataframe thead th {\n",
       "        text-align: right;\n",
       "    }\n",
       "</style>\n",
       "<table border=\"1\" class=\"dataframe\">\n",
       "  <thead>\n",
       "    <tr style=\"text-align: right;\">\n",
       "      <th></th>\n",
       "      <th>Customer ID</th>\n",
       "      <th>Customer Name</th>\n",
       "      <th>Email</th>\n",
       "      <th>Member Since</th>\n",
       "      <th>Subscription Plan</th>\n",
       "      <th>Subscription Rate</th>\n",
       "      <th>Discount?</th>\n",
       "      <th>Cancellation Date</th>\n",
       "      <th>cancelled</th>\n",
       "    </tr>\n",
       "  </thead>\n",
       "  <tbody>\n",
       "    <tr>\n",
       "      <th>0</th>\n",
       "      <td>5001</td>\n",
       "      <td>Harmony Greene</td>\n",
       "      <td>harmonious.vibes@email.com</td>\n",
       "      <td>2023-03-13</td>\n",
       "      <td>Basic (Ads)</td>\n",
       "      <td>2.99</td>\n",
       "      <td>0</td>\n",
       "      <td>NaT</td>\n",
       "      <td>0</td>\n",
       "    </tr>\n",
       "    <tr>\n",
       "      <th>1</th>\n",
       "      <td>5002</td>\n",
       "      <td>Aria Keys</td>\n",
       "      <td>melodious.aria@email.edu</td>\n",
       "      <td>2023-03-13</td>\n",
       "      <td>Basic (Ads)</td>\n",
       "      <td>2.99</td>\n",
       "      <td>0</td>\n",
       "      <td>NaT</td>\n",
       "      <td>0</td>\n",
       "    </tr>\n",
       "    <tr>\n",
       "      <th>2</th>\n",
       "      <td>5004</td>\n",
       "      <td>Lyric Bell</td>\n",
       "      <td>rhythmical.lyric@email.com</td>\n",
       "      <td>2023-03-13</td>\n",
       "      <td>Basic (Ads)</td>\n",
       "      <td>2.99</td>\n",
       "      <td>0</td>\n",
       "      <td>2023-06-01</td>\n",
       "      <td>1</td>\n",
       "    </tr>\n",
       "  </tbody>\n",
       "</table>\n",
       "</div>"
      ],
      "text/plain": [
       "   Customer ID   Customer Name                        Email Member Since  \\\n",
       "0         5001  Harmony Greene   harmonious.vibes@email.com   2023-03-13   \n",
       "1         5002       Aria Keys     melodious.aria@email.edu   2023-03-13   \n",
       "2         5004      Lyric Bell   rhythmical.lyric@email.com   2023-03-13   \n",
       "\n",
       "  Subscription Plan  Subscription Rate  Discount? Cancellation Date  cancelled  \n",
       "0       Basic (Ads)               2.99          0               NaT          0  \n",
       "1       Basic (Ads)               2.99          0               NaT          0  \n",
       "2       Basic (Ads)               2.99          0        2023-06-01          1  "
      ]
     },
     "execution_count": 160,
     "metadata": {},
     "output_type": "execute_result"
    }
   ],
   "source": [
    "customers.head(3)"
   ]
  },
  {
   "cell_type": "code",
   "execution_count": 162,
   "metadata": {},
   "outputs": [],
   "source": [
    "df_model=customers[['Customer ID','Discount?','cancelled']]"
   ]
  },
  {
   "cell_type": "code",
   "execution_count": 163,
   "metadata": {},
   "outputs": [
    {
     "data": {
      "text/html": [
       "<div>\n",
       "<style scoped>\n",
       "    .dataframe tbody tr th:only-of-type {\n",
       "        vertical-align: middle;\n",
       "    }\n",
       "\n",
       "    .dataframe tbody tr th {\n",
       "        vertical-align: top;\n",
       "    }\n",
       "\n",
       "    .dataframe thead th {\n",
       "        text-align: right;\n",
       "    }\n",
       "</style>\n",
       "<table border=\"1\" class=\"dataframe\">\n",
       "  <thead>\n",
       "    <tr style=\"text-align: right;\">\n",
       "      <th></th>\n",
       "      <th>Customer ID</th>\n",
       "      <th>Discount?</th>\n",
       "      <th>cancelled</th>\n",
       "    </tr>\n",
       "  </thead>\n",
       "  <tbody>\n",
       "    <tr>\n",
       "      <th>0</th>\n",
       "      <td>5001</td>\n",
       "      <td>0</td>\n",
       "      <td>0</td>\n",
       "    </tr>\n",
       "    <tr>\n",
       "      <th>1</th>\n",
       "      <td>5002</td>\n",
       "      <td>0</td>\n",
       "      <td>0</td>\n",
       "    </tr>\n",
       "    <tr>\n",
       "      <th>2</th>\n",
       "      <td>5004</td>\n",
       "      <td>0</td>\n",
       "      <td>1</td>\n",
       "    </tr>\n",
       "  </tbody>\n",
       "</table>\n",
       "</div>"
      ],
      "text/plain": [
       "   Customer ID  Discount?  cancelled\n",
       "0         5001          0          0\n",
       "1         5002          0          0\n",
       "2         5004          0          1"
      ]
     },
     "execution_count": 163,
     "metadata": {},
     "output_type": "execute_result"
    }
   ],
   "source": [
    "df_model.head(3)"
   ]
  },
  {
   "cell_type": "code",
   "execution_count": 172,
   "metadata": {},
   "outputs": [],
   "source": [
    "number_of_sessions=df.groupby('Customer ID')['Session ID'].nunique().rename('Numer of Sesions').to_frame().reset_index()"
   ]
  },
  {
   "cell_type": "code",
   "execution_count": 173,
   "metadata": {},
   "outputs": [
    {
     "data": {
      "text/html": [
       "<div>\n",
       "<style scoped>\n",
       "    .dataframe tbody tr th:only-of-type {\n",
       "        vertical-align: middle;\n",
       "    }\n",
       "\n",
       "    .dataframe tbody tr th {\n",
       "        vertical-align: top;\n",
       "    }\n",
       "\n",
       "    .dataframe thead th {\n",
       "        text-align: right;\n",
       "    }\n",
       "</style>\n",
       "<table border=\"1\" class=\"dataframe\">\n",
       "  <thead>\n",
       "    <tr style=\"text-align: right;\">\n",
       "      <th></th>\n",
       "      <th>Customer ID</th>\n",
       "      <th>Numer of Sesions</th>\n",
       "    </tr>\n",
       "  </thead>\n",
       "  <tbody>\n",
       "    <tr>\n",
       "      <th>0</th>\n",
       "      <td>5001</td>\n",
       "      <td>8</td>\n",
       "    </tr>\n",
       "    <tr>\n",
       "      <th>1</th>\n",
       "      <td>5002</td>\n",
       "      <td>4</td>\n",
       "    </tr>\n",
       "    <tr>\n",
       "      <th>2</th>\n",
       "      <td>5004</td>\n",
       "      <td>1</td>\n",
       "    </tr>\n",
       "    <tr>\n",
       "      <th>3</th>\n",
       "      <td>5267</td>\n",
       "      <td>7</td>\n",
       "    </tr>\n",
       "    <tr>\n",
       "      <th>4</th>\n",
       "      <td>5338</td>\n",
       "      <td>4</td>\n",
       "    </tr>\n",
       "  </tbody>\n",
       "</table>\n",
       "</div>"
      ],
      "text/plain": [
       "   Customer ID  Numer of Sesions\n",
       "0         5001                 8\n",
       "1         5002                 4\n",
       "2         5004                 1\n",
       "3         5267                 7\n",
       "4         5338                 4"
      ]
     },
     "execution_count": 173,
     "metadata": {},
     "output_type": "execute_result"
    }
   ],
   "source": [
    "number_of_sessions.head()"
   ]
  },
  {
   "cell_type": "code",
   "execution_count": null,
   "metadata": {},
   "outputs": [],
   "source": [
    "# add number_of_sessions to df_model by left join "
   ]
  },
  {
   "cell_type": "code",
   "execution_count": 175,
   "metadata": {},
   "outputs": [],
   "source": [
    "df_model=df_model.merge(number_of_sessions,how='left',on='Customer ID')"
   ]
  },
  {
   "cell_type": "code",
   "execution_count": 177,
   "metadata": {},
   "outputs": [
    {
     "data": {
      "text/html": [
       "<div>\n",
       "<style scoped>\n",
       "    .dataframe tbody tr th:only-of-type {\n",
       "        vertical-align: middle;\n",
       "    }\n",
       "\n",
       "    .dataframe tbody tr th {\n",
       "        vertical-align: top;\n",
       "    }\n",
       "\n",
       "    .dataframe thead th {\n",
       "        text-align: right;\n",
       "    }\n",
       "</style>\n",
       "<table border=\"1\" class=\"dataframe\">\n",
       "  <thead>\n",
       "    <tr style=\"text-align: right;\">\n",
       "      <th></th>\n",
       "      <th>Customer ID</th>\n",
       "      <th>Discount?</th>\n",
       "      <th>cancelled</th>\n",
       "      <th>Numer of Sesions</th>\n",
       "    </tr>\n",
       "  </thead>\n",
       "  <tbody>\n",
       "    <tr>\n",
       "      <th>0</th>\n",
       "      <td>5001</td>\n",
       "      <td>0</td>\n",
       "      <td>0</td>\n",
       "      <td>8</td>\n",
       "    </tr>\n",
       "    <tr>\n",
       "      <th>1</th>\n",
       "      <td>5002</td>\n",
       "      <td>0</td>\n",
       "      <td>0</td>\n",
       "      <td>4</td>\n",
       "    </tr>\n",
       "    <tr>\n",
       "      <th>2</th>\n",
       "      <td>5004</td>\n",
       "      <td>0</td>\n",
       "      <td>1</td>\n",
       "      <td>1</td>\n",
       "    </tr>\n",
       "    <tr>\n",
       "      <th>3</th>\n",
       "      <td>5267</td>\n",
       "      <td>0</td>\n",
       "      <td>0</td>\n",
       "      <td>7</td>\n",
       "    </tr>\n",
       "    <tr>\n",
       "      <th>4</th>\n",
       "      <td>5338</td>\n",
       "      <td>0</td>\n",
       "      <td>0</td>\n",
       "      <td>4</td>\n",
       "    </tr>\n",
       "  </tbody>\n",
       "</table>\n",
       "</div>"
      ],
      "text/plain": [
       "   Customer ID  Discount?  cancelled  Numer of Sesions\n",
       "0         5001          0          0                 8\n",
       "1         5002          0          0                 4\n",
       "2         5004          0          1                 1\n",
       "3         5267          0          0                 7\n",
       "4         5338          0          0                 4"
      ]
     },
     "execution_count": 177,
     "metadata": {},
     "output_type": "execute_result"
    }
   ],
   "source": [
    "df_model.head()"
   ]
  },
  {
   "cell_type": "code",
   "execution_count": null,
   "metadata": {},
   "outputs": [],
   "source": [
    "# find how many of each genre each customer got from df"
   ]
  },
  {
   "cell_type": "code",
   "execution_count": 178,
   "metadata": {},
   "outputs": [
    {
     "data": {
      "text/html": [
       "<div>\n",
       "<style scoped>\n",
       "    .dataframe tbody tr th:only-of-type {\n",
       "        vertical-align: middle;\n",
       "    }\n",
       "\n",
       "    .dataframe tbody tr th {\n",
       "        vertical-align: top;\n",
       "    }\n",
       "\n",
       "    .dataframe thead th {\n",
       "        text-align: right;\n",
       "    }\n",
       "</style>\n",
       "<table border=\"1\" class=\"dataframe\">\n",
       "  <thead>\n",
       "    <tr style=\"text-align: right;\">\n",
       "      <th></th>\n",
       "      <th>Customer ID</th>\n",
       "      <th>Session ID</th>\n",
       "      <th>Audio Order</th>\n",
       "      <th>Audio ID</th>\n",
       "      <th>Audio Type</th>\n",
       "      <th>Type</th>\n",
       "      <th>Name</th>\n",
       "      <th>Genre</th>\n",
       "      <th>Popularity</th>\n",
       "    </tr>\n",
       "  </thead>\n",
       "  <tbody>\n",
       "    <tr>\n",
       "      <th>0</th>\n",
       "      <td>5001</td>\n",
       "      <td>100520</td>\n",
       "      <td>1</td>\n",
       "      <td>101</td>\n",
       "      <td>Song</td>\n",
       "      <td>Song</td>\n",
       "      <td>Dance All Night</td>\n",
       "      <td>Pop</td>\n",
       "      <td>1</td>\n",
       "    </tr>\n",
       "    <tr>\n",
       "      <th>1</th>\n",
       "      <td>5001</td>\n",
       "      <td>100520</td>\n",
       "      <td>2</td>\n",
       "      <td>102</td>\n",
       "      <td>Song</td>\n",
       "      <td>Song</td>\n",
       "      <td>Unbreakable Beat</td>\n",
       "      <td>Pop</td>\n",
       "      <td>2</td>\n",
       "    </tr>\n",
       "    <tr>\n",
       "      <th>2</th>\n",
       "      <td>5001</td>\n",
       "      <td>100520</td>\n",
       "      <td>3</td>\n",
       "      <td>103</td>\n",
       "      <td>Song</td>\n",
       "      <td>Song</td>\n",
       "      <td>Sunset Boulevard</td>\n",
       "      <td>Pop</td>\n",
       "      <td>5</td>\n",
       "    </tr>\n",
       "    <tr>\n",
       "      <th>3</th>\n",
       "      <td>5001</td>\n",
       "      <td>100520</td>\n",
       "      <td>4</td>\n",
       "      <td>104</td>\n",
       "      <td>Song</td>\n",
       "      <td>Song</td>\n",
       "      <td>Glowing Hearts</td>\n",
       "      <td>Pop</td>\n",
       "      <td>10</td>\n",
       "    </tr>\n",
       "    <tr>\n",
       "      <th>4</th>\n",
       "      <td>5001</td>\n",
       "      <td>100520</td>\n",
       "      <td>5</td>\n",
       "      <td>105</td>\n",
       "      <td>Song</td>\n",
       "      <td>Song</td>\n",
       "      <td>Pop Rocks</td>\n",
       "      <td>Pop</td>\n",
       "      <td>52</td>\n",
       "    </tr>\n",
       "  </tbody>\n",
       "</table>\n",
       "</div>"
      ],
      "text/plain": [
       "   Customer ID  Session ID  Audio Order  Audio ID Audio Type  Type  \\\n",
       "0         5001      100520            1       101       Song  Song   \n",
       "1         5001      100520            2       102       Song  Song   \n",
       "2         5001      100520            3       103       Song  Song   \n",
       "3         5001      100520            4       104       Song  Song   \n",
       "4         5001      100520            5       105       Song  Song   \n",
       "\n",
       "               Name Genre  Popularity  \n",
       "0   Dance All Night   Pop           1  \n",
       "1  Unbreakable Beat   Pop           2  \n",
       "2  Sunset Boulevard   Pop           5  \n",
       "3    Glowing Hearts   Pop          10  \n",
       "4         Pop Rocks   Pop          52  "
      ]
     },
     "execution_count": 178,
     "metadata": {},
     "output_type": "execute_result"
    }
   ],
   "source": [
    "df.head()"
   ]
  },
  {
   "cell_type": "code",
   "execution_count": 180,
   "metadata": {},
   "outputs": [
    {
     "data": {
      "text/html": [
       "<div>\n",
       "<style scoped>\n",
       "    .dataframe tbody tr th:only-of-type {\n",
       "        vertical-align: middle;\n",
       "    }\n",
       "\n",
       "    .dataframe tbody tr th {\n",
       "        vertical-align: top;\n",
       "    }\n",
       "\n",
       "    .dataframe thead th {\n",
       "        text-align: right;\n",
       "    }\n",
       "</style>\n",
       "<table border=\"1\" class=\"dataframe\">\n",
       "  <thead>\n",
       "    <tr style=\"text-align: right;\">\n",
       "      <th></th>\n",
       "      <th>Comedy</th>\n",
       "      <th>Country</th>\n",
       "      <th>Hip Hop</th>\n",
       "      <th>Jazz</th>\n",
       "      <th>Pop</th>\n",
       "      <th>True Crime</th>\n",
       "    </tr>\n",
       "  </thead>\n",
       "  <tbody>\n",
       "    <tr>\n",
       "      <th>0</th>\n",
       "      <td>0</td>\n",
       "      <td>0</td>\n",
       "      <td>0</td>\n",
       "      <td>0</td>\n",
       "      <td>1</td>\n",
       "      <td>0</td>\n",
       "    </tr>\n",
       "    <tr>\n",
       "      <th>1</th>\n",
       "      <td>0</td>\n",
       "      <td>0</td>\n",
       "      <td>0</td>\n",
       "      <td>0</td>\n",
       "      <td>1</td>\n",
       "      <td>0</td>\n",
       "    </tr>\n",
       "    <tr>\n",
       "      <th>2</th>\n",
       "      <td>0</td>\n",
       "      <td>0</td>\n",
       "      <td>0</td>\n",
       "      <td>0</td>\n",
       "      <td>1</td>\n",
       "      <td>0</td>\n",
       "    </tr>\n",
       "    <tr>\n",
       "      <th>3</th>\n",
       "      <td>0</td>\n",
       "      <td>0</td>\n",
       "      <td>0</td>\n",
       "      <td>0</td>\n",
       "      <td>1</td>\n",
       "      <td>0</td>\n",
       "    </tr>\n",
       "    <tr>\n",
       "      <th>4</th>\n",
       "      <td>0</td>\n",
       "      <td>0</td>\n",
       "      <td>0</td>\n",
       "      <td>0</td>\n",
       "      <td>1</td>\n",
       "      <td>0</td>\n",
       "    </tr>\n",
       "    <tr>\n",
       "      <th>...</th>\n",
       "      <td>...</td>\n",
       "      <td>...</td>\n",
       "      <td>...</td>\n",
       "      <td>...</td>\n",
       "      <td>...</td>\n",
       "      <td>...</td>\n",
       "    </tr>\n",
       "    <tr>\n",
       "      <th>500</th>\n",
       "      <td>0</td>\n",
       "      <td>0</td>\n",
       "      <td>0</td>\n",
       "      <td>1</td>\n",
       "      <td>0</td>\n",
       "      <td>0</td>\n",
       "    </tr>\n",
       "    <tr>\n",
       "      <th>501</th>\n",
       "      <td>1</td>\n",
       "      <td>0</td>\n",
       "      <td>0</td>\n",
       "      <td>0</td>\n",
       "      <td>0</td>\n",
       "      <td>0</td>\n",
       "    </tr>\n",
       "    <tr>\n",
       "      <th>502</th>\n",
       "      <td>0</td>\n",
       "      <td>0</td>\n",
       "      <td>1</td>\n",
       "      <td>0</td>\n",
       "      <td>0</td>\n",
       "      <td>0</td>\n",
       "    </tr>\n",
       "    <tr>\n",
       "      <th>503</th>\n",
       "      <td>0</td>\n",
       "      <td>0</td>\n",
       "      <td>1</td>\n",
       "      <td>0</td>\n",
       "      <td>0</td>\n",
       "      <td>0</td>\n",
       "    </tr>\n",
       "    <tr>\n",
       "      <th>504</th>\n",
       "      <td>0</td>\n",
       "      <td>0</td>\n",
       "      <td>1</td>\n",
       "      <td>0</td>\n",
       "      <td>0</td>\n",
       "      <td>0</td>\n",
       "    </tr>\n",
       "  </tbody>\n",
       "</table>\n",
       "<p>505 rows × 6 columns</p>\n",
       "</div>"
      ],
      "text/plain": [
       "     Comedy  Country  Hip Hop  Jazz  Pop  True Crime\n",
       "0         0        0        0     0    1           0\n",
       "1         0        0        0     0    1           0\n",
       "2         0        0        0     0    1           0\n",
       "3         0        0        0     0    1           0\n",
       "4         0        0        0     0    1           0\n",
       "..      ...      ...      ...   ...  ...         ...\n",
       "500       0        0        0     1    0           0\n",
       "501       1        0        0     0    0           0\n",
       "502       0        0        1     0    0           0\n",
       "503       0        0        1     0    0           0\n",
       "504       0        0        1     0    0           0\n",
       "\n",
       "[505 rows x 6 columns]"
      ]
     },
     "execution_count": 180,
     "metadata": {},
     "output_type": "execute_result"
    }
   ],
   "source": [
    "pd.get_dummies(df['Genre']).astype(int)"
   ]
  },
  {
   "cell_type": "code",
   "execution_count": null,
   "metadata": {},
   "outputs": [],
   "source": [
    "# we need customer ID to find the number of each genre each customer attend , so need add customer ID column "
   ]
  },
  {
   "cell_type": "code",
   "execution_count": 184,
   "metadata": {},
   "outputs": [],
   "source": [
    "audio_each_genre=pd.concat([df['Customer ID'],pd.get_dummies(df['Genre']).astype(int)],axis=1)"
   ]
  },
  {
   "cell_type": "code",
   "execution_count": 185,
   "metadata": {},
   "outputs": [
    {
     "data": {
      "text/html": [
       "<div>\n",
       "<style scoped>\n",
       "    .dataframe tbody tr th:only-of-type {\n",
       "        vertical-align: middle;\n",
       "    }\n",
       "\n",
       "    .dataframe tbody tr th {\n",
       "        vertical-align: top;\n",
       "    }\n",
       "\n",
       "    .dataframe thead th {\n",
       "        text-align: right;\n",
       "    }\n",
       "</style>\n",
       "<table border=\"1\" class=\"dataframe\">\n",
       "  <thead>\n",
       "    <tr style=\"text-align: right;\">\n",
       "      <th></th>\n",
       "      <th>Customer ID</th>\n",
       "      <th>Comedy</th>\n",
       "      <th>Country</th>\n",
       "      <th>Hip Hop</th>\n",
       "      <th>Jazz</th>\n",
       "      <th>Pop</th>\n",
       "      <th>True Crime</th>\n",
       "    </tr>\n",
       "  </thead>\n",
       "  <tbody>\n",
       "    <tr>\n",
       "      <th>0</th>\n",
       "      <td>5001</td>\n",
       "      <td>0</td>\n",
       "      <td>0</td>\n",
       "      <td>0</td>\n",
       "      <td>0</td>\n",
       "      <td>1</td>\n",
       "      <td>0</td>\n",
       "    </tr>\n",
       "    <tr>\n",
       "      <th>1</th>\n",
       "      <td>5001</td>\n",
       "      <td>0</td>\n",
       "      <td>0</td>\n",
       "      <td>0</td>\n",
       "      <td>0</td>\n",
       "      <td>1</td>\n",
       "      <td>0</td>\n",
       "    </tr>\n",
       "    <tr>\n",
       "      <th>2</th>\n",
       "      <td>5001</td>\n",
       "      <td>0</td>\n",
       "      <td>0</td>\n",
       "      <td>0</td>\n",
       "      <td>0</td>\n",
       "      <td>1</td>\n",
       "      <td>0</td>\n",
       "    </tr>\n",
       "    <tr>\n",
       "      <th>3</th>\n",
       "      <td>5001</td>\n",
       "      <td>0</td>\n",
       "      <td>0</td>\n",
       "      <td>0</td>\n",
       "      <td>0</td>\n",
       "      <td>1</td>\n",
       "      <td>0</td>\n",
       "    </tr>\n",
       "    <tr>\n",
       "      <th>4</th>\n",
       "      <td>5001</td>\n",
       "      <td>0</td>\n",
       "      <td>0</td>\n",
       "      <td>0</td>\n",
       "      <td>0</td>\n",
       "      <td>1</td>\n",
       "      <td>0</td>\n",
       "    </tr>\n",
       "  </tbody>\n",
       "</table>\n",
       "</div>"
      ],
      "text/plain": [
       "   Customer ID  Comedy  Country  Hip Hop  Jazz  Pop  True Crime\n",
       "0         5001       0        0        0     0    1           0\n",
       "1         5001       0        0        0     0    1           0\n",
       "2         5001       0        0        0     0    1           0\n",
       "3         5001       0        0        0     0    1           0\n",
       "4         5001       0        0        0     0    1           0"
      ]
     },
     "execution_count": 185,
     "metadata": {},
     "output_type": "execute_result"
    }
   ],
   "source": [
    "audio_each_genre.head()"
   ]
  },
  {
   "cell_type": "code",
   "execution_count": null,
   "metadata": {},
   "outputs": [],
   "source": [
    "# find the sum of each genre for each customer "
   ]
  },
  {
   "cell_type": "code",
   "execution_count": 189,
   "metadata": {},
   "outputs": [],
   "source": [
    "audio_sum_genre=audio_each_genre.groupby('Customer ID').sum().reset_index()"
   ]
  },
  {
   "cell_type": "code",
   "execution_count": 190,
   "metadata": {},
   "outputs": [
    {
     "data": {
      "text/html": [
       "<div>\n",
       "<style scoped>\n",
       "    .dataframe tbody tr th:only-of-type {\n",
       "        vertical-align: middle;\n",
       "    }\n",
       "\n",
       "    .dataframe tbody tr th {\n",
       "        vertical-align: top;\n",
       "    }\n",
       "\n",
       "    .dataframe thead th {\n",
       "        text-align: right;\n",
       "    }\n",
       "</style>\n",
       "<table border=\"1\" class=\"dataframe\">\n",
       "  <thead>\n",
       "    <tr style=\"text-align: right;\">\n",
       "      <th></th>\n",
       "      <th>Customer ID</th>\n",
       "      <th>Comedy</th>\n",
       "      <th>Country</th>\n",
       "      <th>Hip Hop</th>\n",
       "      <th>Jazz</th>\n",
       "      <th>Pop</th>\n",
       "      <th>True Crime</th>\n",
       "    </tr>\n",
       "  </thead>\n",
       "  <tbody>\n",
       "    <tr>\n",
       "      <th>0</th>\n",
       "      <td>5001</td>\n",
       "      <td>0</td>\n",
       "      <td>0</td>\n",
       "      <td>26</td>\n",
       "      <td>0</td>\n",
       "      <td>34</td>\n",
       "      <td>0</td>\n",
       "    </tr>\n",
       "    <tr>\n",
       "      <th>1</th>\n",
       "      <td>5002</td>\n",
       "      <td>0</td>\n",
       "      <td>22</td>\n",
       "      <td>0</td>\n",
       "      <td>0</td>\n",
       "      <td>0</td>\n",
       "      <td>0</td>\n",
       "    </tr>\n",
       "    <tr>\n",
       "      <th>2</th>\n",
       "      <td>5004</td>\n",
       "      <td>0</td>\n",
       "      <td>0</td>\n",
       "      <td>0</td>\n",
       "      <td>0</td>\n",
       "      <td>9</td>\n",
       "      <td>0</td>\n",
       "    </tr>\n",
       "    <tr>\n",
       "      <th>3</th>\n",
       "      <td>5267</td>\n",
       "      <td>0</td>\n",
       "      <td>0</td>\n",
       "      <td>22</td>\n",
       "      <td>0</td>\n",
       "      <td>23</td>\n",
       "      <td>0</td>\n",
       "    </tr>\n",
       "    <tr>\n",
       "      <th>4</th>\n",
       "      <td>5338</td>\n",
       "      <td>0</td>\n",
       "      <td>18</td>\n",
       "      <td>0</td>\n",
       "      <td>0</td>\n",
       "      <td>0</td>\n",
       "      <td>0</td>\n",
       "    </tr>\n",
       "  </tbody>\n",
       "</table>\n",
       "</div>"
      ],
      "text/plain": [
       "   Customer ID  Comedy  Country  Hip Hop  Jazz  Pop  True Crime\n",
       "0         5001       0        0       26     0   34           0\n",
       "1         5002       0       22        0     0    0           0\n",
       "2         5004       0        0        0     0    9           0\n",
       "3         5267       0        0       22     0   23           0\n",
       "4         5338       0       18        0     0    0           0"
      ]
     },
     "execution_count": 190,
     "metadata": {},
     "output_type": "execute_result"
    }
   ],
   "source": [
    "audio_sum_genre.head()"
   ]
  },
  {
   "cell_type": "code",
   "execution_count": null,
   "metadata": {},
   "outputs": [],
   "source": [
    "# add one colume which is the total audio of all genres"
   ]
  },
  {
   "cell_type": "code",
   "execution_count": 191,
   "metadata": {},
   "outputs": [
    {
     "data": {
      "text/plain": [
       "Customer ID    int64\n",
       "Comedy         int32\n",
       "Country        int32\n",
       "Hip Hop        int32\n",
       "Jazz           int32\n",
       "Pop            int32\n",
       "True Crime     int32\n",
       "dtype: object"
      ]
     },
     "execution_count": 191,
     "metadata": {},
     "output_type": "execute_result"
    }
   ],
   "source": [
    "audio_sum_genre.dtypes"
   ]
  },
  {
   "cell_type": "code",
   "execution_count": 192,
   "metadata": {},
   "outputs": [],
   "source": [
    "audio_sum_genre['Total Audio']=(audio_sum_genre.Comedy+audio_sum_genre.Country+audio_sum_genre['Hip Hop']\n",
    "                                +audio_sum_genre.Jazz+audio_sum_genre.Pop+audio_sum_genre['True Crime'])"
   ]
  },
  {
   "cell_type": "code",
   "execution_count": 194,
   "metadata": {},
   "outputs": [
    {
     "data": {
      "text/html": [
       "<div>\n",
       "<style scoped>\n",
       "    .dataframe tbody tr th:only-of-type {\n",
       "        vertical-align: middle;\n",
       "    }\n",
       "\n",
       "    .dataframe tbody tr th {\n",
       "        vertical-align: top;\n",
       "    }\n",
       "\n",
       "    .dataframe thead th {\n",
       "        text-align: right;\n",
       "    }\n",
       "</style>\n",
       "<table border=\"1\" class=\"dataframe\">\n",
       "  <thead>\n",
       "    <tr style=\"text-align: right;\">\n",
       "      <th></th>\n",
       "      <th>Customer ID</th>\n",
       "      <th>Comedy</th>\n",
       "      <th>Country</th>\n",
       "      <th>Hip Hop</th>\n",
       "      <th>Jazz</th>\n",
       "      <th>Pop</th>\n",
       "      <th>True Crime</th>\n",
       "      <th>Total Audio</th>\n",
       "    </tr>\n",
       "  </thead>\n",
       "  <tbody>\n",
       "    <tr>\n",
       "      <th>0</th>\n",
       "      <td>5001</td>\n",
       "      <td>0</td>\n",
       "      <td>0</td>\n",
       "      <td>26</td>\n",
       "      <td>0</td>\n",
       "      <td>34</td>\n",
       "      <td>0</td>\n",
       "      <td>60</td>\n",
       "    </tr>\n",
       "    <tr>\n",
       "      <th>1</th>\n",
       "      <td>5002</td>\n",
       "      <td>0</td>\n",
       "      <td>22</td>\n",
       "      <td>0</td>\n",
       "      <td>0</td>\n",
       "      <td>0</td>\n",
       "      <td>0</td>\n",
       "      <td>22</td>\n",
       "    </tr>\n",
       "    <tr>\n",
       "      <th>2</th>\n",
       "      <td>5004</td>\n",
       "      <td>0</td>\n",
       "      <td>0</td>\n",
       "      <td>0</td>\n",
       "      <td>0</td>\n",
       "      <td>9</td>\n",
       "      <td>0</td>\n",
       "      <td>9</td>\n",
       "    </tr>\n",
       "    <tr>\n",
       "      <th>3</th>\n",
       "      <td>5267</td>\n",
       "      <td>0</td>\n",
       "      <td>0</td>\n",
       "      <td>22</td>\n",
       "      <td>0</td>\n",
       "      <td>23</td>\n",
       "      <td>0</td>\n",
       "      <td>45</td>\n",
       "    </tr>\n",
       "    <tr>\n",
       "      <th>4</th>\n",
       "      <td>5338</td>\n",
       "      <td>0</td>\n",
       "      <td>18</td>\n",
       "      <td>0</td>\n",
       "      <td>0</td>\n",
       "      <td>0</td>\n",
       "      <td>0</td>\n",
       "      <td>18</td>\n",
       "    </tr>\n",
       "  </tbody>\n",
       "</table>\n",
       "</div>"
      ],
      "text/plain": [
       "   Customer ID  Comedy  Country  Hip Hop  Jazz  Pop  True Crime  Total Audio\n",
       "0         5001       0        0       26     0   34           0           60\n",
       "1         5002       0       22        0     0    0           0           22\n",
       "2         5004       0        0        0     0    9           0            9\n",
       "3         5267       0        0       22     0   23           0           45\n",
       "4         5338       0       18        0     0    0           0           18"
      ]
     },
     "execution_count": 194,
     "metadata": {},
     "output_type": "execute_result"
    }
   ],
   "source": [
    "audio_sum_genre.head()"
   ]
  },
  {
   "cell_type": "code",
   "execution_count": null,
   "metadata": {},
   "outputs": [],
   "source": [
    "# calculate the percent of Pop versus total audio "
   ]
  },
  {
   "cell_type": "code",
   "execution_count": 197,
   "metadata": {},
   "outputs": [],
   "source": [
    "audio_sum_genre['Pop Percent']=audio_sum_genre.Pop/audio_sum_genre['Total Audio']"
   ]
  },
  {
   "cell_type": "code",
   "execution_count": 198,
   "metadata": {},
   "outputs": [],
   "source": [
    "audio_sum_genre['Podcast Percent']=(audio_sum_genre.Comedy+audio_sum_genre['True Crime'])/audio_sum_genre['Total Audio']"
   ]
  },
  {
   "cell_type": "code",
   "execution_count": 199,
   "metadata": {},
   "outputs": [
    {
     "data": {
      "text/html": [
       "<div>\n",
       "<style scoped>\n",
       "    .dataframe tbody tr th:only-of-type {\n",
       "        vertical-align: middle;\n",
       "    }\n",
       "\n",
       "    .dataframe tbody tr th {\n",
       "        vertical-align: top;\n",
       "    }\n",
       "\n",
       "    .dataframe thead th {\n",
       "        text-align: right;\n",
       "    }\n",
       "</style>\n",
       "<table border=\"1\" class=\"dataframe\">\n",
       "  <thead>\n",
       "    <tr style=\"text-align: right;\">\n",
       "      <th></th>\n",
       "      <th>Customer ID</th>\n",
       "      <th>Comedy</th>\n",
       "      <th>Country</th>\n",
       "      <th>Hip Hop</th>\n",
       "      <th>Jazz</th>\n",
       "      <th>Pop</th>\n",
       "      <th>True Crime</th>\n",
       "      <th>Total Audio</th>\n",
       "      <th>Pop Percent</th>\n",
       "      <th>Podcast Percent</th>\n",
       "    </tr>\n",
       "  </thead>\n",
       "  <tbody>\n",
       "    <tr>\n",
       "      <th>0</th>\n",
       "      <td>5001</td>\n",
       "      <td>0</td>\n",
       "      <td>0</td>\n",
       "      <td>26</td>\n",
       "      <td>0</td>\n",
       "      <td>34</td>\n",
       "      <td>0</td>\n",
       "      <td>60</td>\n",
       "      <td>0.566667</td>\n",
       "      <td>0.0</td>\n",
       "    </tr>\n",
       "    <tr>\n",
       "      <th>1</th>\n",
       "      <td>5002</td>\n",
       "      <td>0</td>\n",
       "      <td>22</td>\n",
       "      <td>0</td>\n",
       "      <td>0</td>\n",
       "      <td>0</td>\n",
       "      <td>0</td>\n",
       "      <td>22</td>\n",
       "      <td>0.000000</td>\n",
       "      <td>0.0</td>\n",
       "    </tr>\n",
       "    <tr>\n",
       "      <th>2</th>\n",
       "      <td>5004</td>\n",
       "      <td>0</td>\n",
       "      <td>0</td>\n",
       "      <td>0</td>\n",
       "      <td>0</td>\n",
       "      <td>9</td>\n",
       "      <td>0</td>\n",
       "      <td>9</td>\n",
       "      <td>1.000000</td>\n",
       "      <td>0.0</td>\n",
       "    </tr>\n",
       "    <tr>\n",
       "      <th>3</th>\n",
       "      <td>5267</td>\n",
       "      <td>0</td>\n",
       "      <td>0</td>\n",
       "      <td>22</td>\n",
       "      <td>0</td>\n",
       "      <td>23</td>\n",
       "      <td>0</td>\n",
       "      <td>45</td>\n",
       "      <td>0.511111</td>\n",
       "      <td>0.0</td>\n",
       "    </tr>\n",
       "    <tr>\n",
       "      <th>4</th>\n",
       "      <td>5338</td>\n",
       "      <td>0</td>\n",
       "      <td>18</td>\n",
       "      <td>0</td>\n",
       "      <td>0</td>\n",
       "      <td>0</td>\n",
       "      <td>0</td>\n",
       "      <td>18</td>\n",
       "      <td>0.000000</td>\n",
       "      <td>0.0</td>\n",
       "    </tr>\n",
       "  </tbody>\n",
       "</table>\n",
       "</div>"
      ],
      "text/plain": [
       "   Customer ID  Comedy  Country  Hip Hop  Jazz  Pop  True Crime  Total Audio  \\\n",
       "0         5001       0        0       26     0   34           0           60   \n",
       "1         5002       0       22        0     0    0           0           22   \n",
       "2         5004       0        0        0     0    9           0            9   \n",
       "3         5267       0        0       22     0   23           0           45   \n",
       "4         5338       0       18        0     0    0           0           18   \n",
       "\n",
       "   Pop Percent  Podcast Percent  \n",
       "0     0.566667              0.0  \n",
       "1     0.000000              0.0  \n",
       "2     1.000000              0.0  \n",
       "3     0.511111              0.0  \n",
       "4     0.000000              0.0  "
      ]
     },
     "execution_count": 199,
     "metadata": {},
     "output_type": "execute_result"
    }
   ],
   "source": [
    "audio_sum_genre.head()"
   ]
  },
  {
   "cell_type": "code",
   "execution_count": null,
   "metadata": {},
   "outputs": [],
   "source": [
    "# add pop percent and podpercent to df_model"
   ]
  },
  {
   "cell_type": "code",
   "execution_count": 202,
   "metadata": {},
   "outputs": [],
   "source": [
    "df_model=pd.concat([df_model,audio_sum_genre['Pop Percent'],audio_sum_genre['Podcast Percent']],axis=1)"
   ]
  },
  {
   "cell_type": "code",
   "execution_count": 203,
   "metadata": {},
   "outputs": [
    {
     "data": {
      "text/html": [
       "<div>\n",
       "<style scoped>\n",
       "    .dataframe tbody tr th:only-of-type {\n",
       "        vertical-align: middle;\n",
       "    }\n",
       "\n",
       "    .dataframe tbody tr th {\n",
       "        vertical-align: top;\n",
       "    }\n",
       "\n",
       "    .dataframe thead th {\n",
       "        text-align: right;\n",
       "    }\n",
       "</style>\n",
       "<table border=\"1\" class=\"dataframe\">\n",
       "  <thead>\n",
       "    <tr style=\"text-align: right;\">\n",
       "      <th></th>\n",
       "      <th>Customer ID</th>\n",
       "      <th>Discount?</th>\n",
       "      <th>cancelled</th>\n",
       "      <th>Numer of Sesions</th>\n",
       "      <th>Pop Percent</th>\n",
       "      <th>Podcast Percent</th>\n",
       "    </tr>\n",
       "  </thead>\n",
       "  <tbody>\n",
       "    <tr>\n",
       "      <th>0</th>\n",
       "      <td>5001</td>\n",
       "      <td>0</td>\n",
       "      <td>0</td>\n",
       "      <td>8</td>\n",
       "      <td>0.566667</td>\n",
       "      <td>0.0</td>\n",
       "    </tr>\n",
       "    <tr>\n",
       "      <th>1</th>\n",
       "      <td>5002</td>\n",
       "      <td>0</td>\n",
       "      <td>0</td>\n",
       "      <td>4</td>\n",
       "      <td>0.000000</td>\n",
       "      <td>0.0</td>\n",
       "    </tr>\n",
       "    <tr>\n",
       "      <th>2</th>\n",
       "      <td>5004</td>\n",
       "      <td>0</td>\n",
       "      <td>1</td>\n",
       "      <td>1</td>\n",
       "      <td>1.000000</td>\n",
       "      <td>0.0</td>\n",
       "    </tr>\n",
       "    <tr>\n",
       "      <th>3</th>\n",
       "      <td>5267</td>\n",
       "      <td>0</td>\n",
       "      <td>0</td>\n",
       "      <td>7</td>\n",
       "      <td>0.511111</td>\n",
       "      <td>0.0</td>\n",
       "    </tr>\n",
       "    <tr>\n",
       "      <th>4</th>\n",
       "      <td>5338</td>\n",
       "      <td>0</td>\n",
       "      <td>0</td>\n",
       "      <td>4</td>\n",
       "      <td>0.000000</td>\n",
       "      <td>0.0</td>\n",
       "    </tr>\n",
       "  </tbody>\n",
       "</table>\n",
       "</div>"
      ],
      "text/plain": [
       "   Customer ID  Discount?  cancelled  Numer of Sesions  Pop Percent  \\\n",
       "0         5001          0          0                 8     0.566667   \n",
       "1         5002          0          0                 4     0.000000   \n",
       "2         5004          0          1                 1     1.000000   \n",
       "3         5267          0          0                 7     0.511111   \n",
       "4         5338          0          0                 4     0.000000   \n",
       "\n",
       "   Podcast Percent  \n",
       "0              0.0  \n",
       "1              0.0  \n",
       "2              0.0  \n",
       "3              0.0  \n",
       "4              0.0  "
      ]
     },
     "execution_count": 203,
     "metadata": {},
     "output_type": "execute_result"
    }
   ],
   "source": [
    "df_model.head()"
   ]
  },
  {
   "cell_type": "code",
   "execution_count": null,
   "metadata": {},
   "outputs": [],
   "source": []
  },
  {
   "cell_type": "code",
   "execution_count": null,
   "metadata": {},
   "outputs": [],
   "source": []
  },
  {
   "cell_type": "markdown",
   "metadata": {},
   "source": [
    "Visualize the relationships in the modeling DataFrame using a pair plot:\n",
    "* What are some of your observations?\n",
    "* What variables might do a good job predicting customer cancellation?"
   ]
  },
  {
   "cell_type": "code",
   "execution_count": 204,
   "metadata": {},
   "outputs": [],
   "source": [
    "import seaborn as sns"
   ]
  },
  {
   "cell_type": "code",
   "execution_count": 205,
   "metadata": {},
   "outputs": [
    {
     "name": "stderr",
     "output_type": "stream",
     "text": [
      "C:\\Users\\clair\\anaconda3\\Lib\\site-packages\\seaborn\\_oldcore.py:1119: FutureWarning: use_inf_as_na option is deprecated and will be removed in a future version. Convert inf values to NaN before operating instead.\n",
      "  with pd.option_context('mode.use_inf_as_na', True):\n",
      "C:\\Users\\clair\\anaconda3\\Lib\\site-packages\\seaborn\\_oldcore.py:1119: FutureWarning: use_inf_as_na option is deprecated and will be removed in a future version. Convert inf values to NaN before operating instead.\n",
      "  with pd.option_context('mode.use_inf_as_na', True):\n",
      "C:\\Users\\clair\\anaconda3\\Lib\\site-packages\\seaborn\\_oldcore.py:1119: FutureWarning: use_inf_as_na option is deprecated and will be removed in a future version. Convert inf values to NaN before operating instead.\n",
      "  with pd.option_context('mode.use_inf_as_na', True):\n",
      "C:\\Users\\clair\\anaconda3\\Lib\\site-packages\\seaborn\\_oldcore.py:1119: FutureWarning: use_inf_as_na option is deprecated and will be removed in a future version. Convert inf values to NaN before operating instead.\n",
      "  with pd.option_context('mode.use_inf_as_na', True):\n",
      "C:\\Users\\clair\\anaconda3\\Lib\\site-packages\\seaborn\\_oldcore.py:1119: FutureWarning: use_inf_as_na option is deprecated and will be removed in a future version. Convert inf values to NaN before operating instead.\n",
      "  with pd.option_context('mode.use_inf_as_na', True):\n",
      "C:\\Users\\clair\\anaconda3\\Lib\\site-packages\\seaborn\\_oldcore.py:1119: FutureWarning: use_inf_as_na option is deprecated and will be removed in a future version. Convert inf values to NaN before operating instead.\n",
      "  with pd.option_context('mode.use_inf_as_na', True):\n"
     ]
    },
    {
     "data": {
      "text/plain": [
       "<seaborn.axisgrid.PairGrid at 0x1ad8dfe4790>"
      ]
     },
     "execution_count": 205,
     "metadata": {},
     "output_type": "execute_result"
    },
    {
     "data": {
      "image/png": "[encoded data removed]",
      "text/plain": [
       "<Figure size 1500x1500 with 42 Axes>"
      ]
     },
     "metadata": {},
     "output_type": "display_data"
    }
   ],
   "source": [
    "sns.pairplot(df_model)"
   ]
  },
  {
   "cell_type": "code",
   "execution_count": 206,
   "metadata": {},
   "outputs": [
    {
     "data": {
      "text/html": [
       "<div>\n",
       "<style scoped>\n",
       "    .dataframe tbody tr th:only-of-type {\n",
       "        vertical-align: middle;\n",
       "    }\n",
       "\n",
       "    .dataframe tbody tr th {\n",
       "        vertical-align: top;\n",
       "    }\n",
       "\n",
       "    .dataframe thead th {\n",
       "        text-align: right;\n",
       "    }\n",
       "</style>\n",
       "<table border=\"1\" class=\"dataframe\">\n",
       "  <thead>\n",
       "    <tr style=\"text-align: right;\">\n",
       "      <th></th>\n",
       "      <th>Customer ID</th>\n",
       "      <th>Discount?</th>\n",
       "      <th>cancelled</th>\n",
       "      <th>Numer of Sesions</th>\n",
       "      <th>Pop Percent</th>\n",
       "      <th>Podcast Percent</th>\n",
       "    </tr>\n",
       "  </thead>\n",
       "  <tbody>\n",
       "    <tr>\n",
       "      <th>Customer ID</th>\n",
       "      <td>1.000000</td>\n",
       "      <td>0.648514</td>\n",
       "      <td>0.269942</td>\n",
       "      <td>-0.337083</td>\n",
       "      <td>-0.076129</td>\n",
       "      <td>0.083083</td>\n",
       "    </tr>\n",
       "    <tr>\n",
       "      <th>Discount?</th>\n",
       "      <td>0.648514</td>\n",
       "      <td>1.000000</td>\n",
       "      <td>0.471825</td>\n",
       "      <td>-0.048877</td>\n",
       "      <td>0.112675</td>\n",
       "      <td>0.062938</td>\n",
       "    </tr>\n",
       "    <tr>\n",
       "      <th>cancelled</th>\n",
       "      <td>0.269942</td>\n",
       "      <td>0.471825</td>\n",
       "      <td>1.000000</td>\n",
       "      <td>-0.333739</td>\n",
       "      <td>0.585630</td>\n",
       "      <td>-0.035414</td>\n",
       "    </tr>\n",
       "    <tr>\n",
       "      <th>Numer of Sesions</th>\n",
       "      <td>-0.337083</td>\n",
       "      <td>-0.048877</td>\n",
       "      <td>-0.333739</td>\n",
       "      <td>1.000000</td>\n",
       "      <td>-0.131156</td>\n",
       "      <td>-0.125459</td>\n",
       "    </tr>\n",
       "    <tr>\n",
       "      <th>Pop Percent</th>\n",
       "      <td>-0.076129</td>\n",
       "      <td>0.112675</td>\n",
       "      <td>0.585630</td>\n",
       "      <td>-0.131156</td>\n",
       "      <td>1.000000</td>\n",
       "      <td>-0.487193</td>\n",
       "    </tr>\n",
       "    <tr>\n",
       "      <th>Podcast Percent</th>\n",
       "      <td>0.083083</td>\n",
       "      <td>0.062938</td>\n",
       "      <td>-0.035414</td>\n",
       "      <td>-0.125459</td>\n",
       "      <td>-0.487193</td>\n",
       "      <td>1.000000</td>\n",
       "    </tr>\n",
       "  </tbody>\n",
       "</table>\n",
       "</div>"
      ],
      "text/plain": [
       "                  Customer ID  Discount?  cancelled  Numer of Sesions  \\\n",
       "Customer ID          1.000000   0.648514   0.269942         -0.337083   \n",
       "Discount?            0.648514   1.000000   0.471825         -0.048877   \n",
       "cancelled            0.269942   0.471825   1.000000         -0.333739   \n",
       "Numer of Sesions    -0.337083  -0.048877  -0.333739          1.000000   \n",
       "Pop Percent         -0.076129   0.112675   0.585630         -0.131156   \n",
       "Podcast Percent      0.083083   0.062938  -0.035414         -0.125459   \n",
       "\n",
       "                  Pop Percent  Podcast Percent  \n",
       "Customer ID         -0.076129         0.083083  \n",
       "Discount?            0.112675         0.062938  \n",
       "cancelled            0.585630        -0.035414  \n",
       "Numer of Sesions    -0.131156        -0.125459  \n",
       "Pop Percent          1.000000        -0.487193  \n",
       "Podcast Percent     -0.487193         1.000000  "
      ]
     },
     "execution_count": 206,
     "metadata": {},
     "output_type": "execute_result"
    }
   ],
   "source": [
    "df_model.corr()"
   ]
  },
  {
   "cell_type": "markdown",
   "metadata": {},
   "source": [
    "*  From the table, we can get the following insight \n",
    "   * Discount cannot contribute to  avoid cancellation \n",
    "   * The more number of sessions, the less likely cancelled \n",
    "   * The more pop song, the more likely to be cancelled.\n",
    "   * Podcast is not related to cancellation.\n",
    "    "
   ]
  }
 ],
 "metadata": {
  "kernelspec": {
   "display_name": "Python 3 (ipykernel)",
   "language": "python",
   "name": "python3"
  },
  "language_info": {
   "codemirror_mode": {
    "name": "ipython",
    "version": 3
   },
   "file_extension": ".py",
   "mimetype": "text/x-python",
   "name": "python",
   "nbconvert_exporter": "python",
   "pygments_lexer": "ipython3",
   "version": "3.11.7"
  }
 },
 "nbformat": 4,
 "nbformat_minor": 4
}
